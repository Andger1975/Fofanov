{
 "cells": [
  {
   "cell_type": "markdown",
   "source": [
    "2. Запросить у пользователя координаты x и y двух точек на плоскости. Посчитать расстояние между заданными точками\n",
    "и вывести результат на консоль с точностью до трёх знаков после запятой (плавающей точки).\n",
    "\n",
    "Примечание: у каждой точки есть две координаты: x и y. Расстояние рассчитывается по формуле,\n",
    "которую вы с лёгкостью найдёте в Интернете (да, гуглить всё, что вы не знаете - очень полезно!)."
   ],
   "metadata": {
    "collapsed": false
   }
  },
  {
   "cell_type": "code",
   "execution_count": 4,
   "outputs": [
    {
     "name": "stdout",
     "output_type": "stream",
     "text": [
      " Расстояние между точками 6.325\n"
     ]
    }
   ],
   "source": [
    "import math\n",
    "xA = int(input('Введите координату х первой точки'))\n",
    "yA = int(input('Введите координату y первой точки'))\n",
    "xB = int(input('Введите координату х второй точки'))\n",
    "yB = int(input('Введите координату y второй точки'))\n",
    "\n",
    "d = math.sqrt((xA-xB)**2 +(yA-yB)**2)\n",
    "print(' Расстояние между точками',round(d, 3))"
   ],
   "metadata": {
    "collapsed": false,
    "pycharm": {
     "name": "#%%\n"
    }
   }
  }
 ],
 "metadata": {
  "kernelspec": {
   "display_name": "Python 3",
   "language": "python",
   "name": "python3"
  },
  "language_info": {
   "codemirror_mode": {
    "name": "ipython",
    "version": 2
   },
   "file_extension": ".py",
   "mimetype": "text/x-python",
   "name": "python",
   "nbconvert_exporter": "python",
   "pygments_lexer": "ipython2",
   "version": "2.7.6"
  }
 },
 "nbformat": 4,
 "nbformat_minor": 0
}