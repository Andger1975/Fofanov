{
 "cells": [
  {
   "cell_type": "markdown",
   "source": [
    "Примечание к \"ДЗ-Основы\": запрос ввода осуществляется вызовом функции input().\n",
    " В функцию можно передать строку, которая будет выведена на экран для общения с пользователем, например:\n",
    "\n",
    "input('Введите ваш возраст')\n",
    "\n",
    "Ввод пользователя возвращается функцией input в виде строки и может быть присвоен переменной:\n",
    "\n",
    "age = input('Введите ваш возраст')\n",
    "\n",
    "Функция input возвращает строку (даже если пользователь ввёл число).\n",
    "Чтобы сконвертировать строку к целому числу, можно сделать следующее:\n",
    "\n",
    "age_str = input('Введите ваш возраст') # age_str это строка\n",
    "age = int(age_str) # age это int\n",
    "1. Клиент покупает кофе в кафе. За каждые 6 чашек, 1 чашка даётся в качестве бонуса.\n",
    "\n",
    "Задача: запросить у пользователя кол-во чашек на покупку, вычислить полагающееся кол-во\n",
    "бонусных чашек кофе и вывести это число на консоль."
   ],
   "metadata": {
    "collapsed": false
   }
  },
  {
   "cell_type": "code",
   "execution_count": 2,
   "outputs": [
    {
     "name": "stdout",
     "output_type": "stream",
     "text": [
      "Бонусных чашек 2\n"
     ]
    }
   ],
   "source": [
    "coffee_cup = input('Сколько вам чашек кофе?')\n",
    "cup = int(coffee_cup)\n",
    "free_cups = int(cup / 6)\n",
    "print('Бонусных чашек',free_cups)\n"
   ],
   "metadata": {
    "collapsed": false,
    "pycharm": {
     "name": "#%%\n"
    }
   }
  }
 ],
 "metadata": {
  "kernelspec": {
   "display_name": "Python 3",
   "language": "python",
   "name": "python3"
  },
  "language_info": {
   "codemirror_mode": {
    "name": "ipython",
    "version": 2
   },
   "file_extension": ".py",
   "mimetype": "text/x-python",
   "name": "python",
   "nbconvert_exporter": "python",
   "pygments_lexer": "ipython2",
   "version": "2.7.6"
  }
 },
 "nbformat": 4,
 "nbformat_minor": 0
}