{
 "cells": [
  {
   "cell_type": "markdown",
   "source": [
    "3. На ферме есть куры, коровы и свиньи. У курицы две ноги, у свиньи - четыре, у коровы - четыре.\n",
    "Запросить у пользователя (фермера)  ввод кол-ва кур, свиней и коров, просуммировать кол-во ног всех животных\n",
    " и вывести результат на консоль."
   ],
   "metadata": {
    "collapsed": false
   }
  },
  {
   "cell_type": "code",
   "execution_count": 1,
   "outputs": [
    {
     "name": "stdout",
     "output_type": "stream",
     "text": [
      "Количество ног всех живостных на ферме 30\n"
     ]
    }
   ],
   "source": [
    "import math\n",
    "chicken = int(input('Введите количество кур на ферме'))\n",
    "pig = int(input('Введите количество свиней на ферме'))\n",
    "cow = int(input('Введите количество коров на ферме'))\n",
    "\n",
    "chicken_legs = chicken*2\n",
    "pig_legs = pig*4\n",
    "cow_legs = cow*4\n",
    "print('Количество ног всех живостных на ферме',chicken_legs + pig_legs + cow_legs)\n",
    "\n"
   ],
   "metadata": {
    "collapsed": false,
    "pycharm": {
     "name": "#%%\n"
    }
   }
  }
 ],
 "metadata": {
  "kernelspec": {
   "display_name": "Python 3",
   "language": "python",
   "name": "python3"
  },
  "language_info": {
   "codemirror_mode": {
    "name": "ipython",
    "version": 2
   },
   "file_extension": ".py",
   "mimetype": "text/x-python",
   "name": "python",
   "nbconvert_exporter": "python",
   "pygments_lexer": "ipython2",
   "version": "2.7.6"
  }
 },
 "nbformat": 4,
 "nbformat_minor": 0
}