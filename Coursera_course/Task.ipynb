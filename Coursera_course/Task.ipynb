{
 "cells": [
  {
   "cell_type": "code",
   "execution_count": 1,
   "metadata": {
    "collapsed": true,
    "pycharm": {
     "name": "#%%\n"
    }
   },
   "outputs": [
    {
     "name": "stdout",
     "output_type": "stream",
     "text": [
      "1296\n"
     ]
    }
   ],
   "source": [
    "#Для примера решим задачу вычисления пройденного расстояния по известному времени и скорости:\n",
    "speed = 108\n",
    "time = 12\n",
    "dist = speed * time\n",
    "print(dist)"
   ]
  },
  {
   "cell_type": "code",
   "execution_count": 2,
   "outputs": [
    {
     "name": "stdout",
     "output_type": "stream",
     "text": [
      "7\n"
     ]
    }
   ],
   "source": [
    "# Пусть заданы два числа A и B, причем B > 0. Обозначим за C целую часть от деления A на B, C = A // B,\n",
    "# а за D - остаток от деления A на B, D = A % B.\n",
    "\n",
    "# Тогда должны выполняться следующие утверждения:\n",
    "print((23+8) % 24)\n",
    "# Это задачка по времени если сейчас 23 и мы проспим 8 то промнемся мы в 7 утра."
   ],
   "metadata": {
    "collapsed": false,
    "pycharm": {
     "name": "#%%\n"
    }
   }
  },
  {
   "cell_type": "code",
   "execution_count": 4,
   "outputs": [
    {
     "name": "stdout",
     "output_type": "stream",
     "text": [
      "23\n"
     ]
    }
   ],
   "source": [
    "# Давайте посмотрим что было за 8 часов до 7 утра\n",
    "print((7-8)%24)\n",
    "# Как мы видим остато от деления указал нам сколько будет времени если от 7 утра отнять 8 часов"
   ],
   "metadata": {
    "collapsed": false,
    "pycharm": {
     "name": "#%%\n"
    }
   }
  },
  {
   "cell_type": "code",
   "execution_count": 5,
   "outputs": [
    {
     "name": "stdout",
     "output_type": "stream",
     "text": [
      "1296\n"
     ]
    }
   ],
   "source": [
    "# Задача знаем скорость в время с которой движеться автомобиль давайте узнаем какое расстояние проешёл авто\n",
    "# за это время.\n",
    "speed = 108\n",
    "time = 12\n",
    "dist = time*speed\n",
    "print(dist)"
   ],
   "metadata": {
    "collapsed": false,
    "pycharm": {
     "name": "#%%\n"
    }
   }
  },
  {
   "cell_type": "code",
   "execution_count": 6,
   "outputs": [
    {
     "name": "stdout",
     "output_type": "stream",
     "text": [
      "1236\n"
     ]
    }
   ],
   "source": [
    "# Добавим в задачу погрешность спидометра\n",
    "speed1 = 108\n",
    "speed2 = -5\n",
    "time = 12\n",
    "dist = time*(speed1+speed2)\n",
    "print(dist)\n"
   ],
   "metadata": {
    "collapsed": false,
    "pycharm": {
     "name": "#%%\n"
    }
   }
  },
  {
   "cell_type": "markdown",
   "source": [
    "Логические типы данных и оперции"
   ],
   "metadata": {
    "collapsed": false,
    "pycharm": {
     "name": "#%% md\n"
    }
   }
  },
  {
   "cell_type": "code",
   "execution_count": 2,
   "outputs": [
    {
     "name": "stdout",
     "output_type": "stream",
     "text": [
      "False\n"
     ]
    }
   ],
   "source": [
    "# Как проверить число на четность, да и вообще на делимость на какое-то другое число? Нужно посчитать остаток\n",
    "# от деления этого числа на то, что мы хотим разделить — в нашем случае на 2, и сравнить его с 0.\n",
    "# То есть число — четное, если остаток от деления на 2 равен 0.\n",
    "\n",
    "n = int(input())\n",
    "isEven = n % 2 == 0\n",
    "print(isEven)"
   ],
   "metadata": {
    "collapsed": false,
    "pycharm": {
     "name": "#%%\n"
    }
   }
  },
  {
   "cell_type": "code",
   "execution_count": 2,
   "outputs": [
    {
     "name": "stdout",
     "output_type": "stream",
     "text": [
      "True\n"
     ]
    }
   ],
   "source": [
    "# Теперь посмотрим более сложную задачу. Пусть у нас есть два отрезка. Например, это отрезки времени,\n",
    "# годы — с какого года по какой, происходило какое-то событие. И перед нами стоит задача понять,\n",
    "# пересекаются ли эти события, то есть, есть ли хоть один такой год, во время которого происходило\n",
    "# и первое событие, и второе.\n",
    "\n",
    "start1 = int(input())\n",
    "finish1 = int(input())\n",
    "start2 = int(input())\n",
    "finish2 = int(input())\n",
    "\n",
    "# isS1in2 -  начало первого отрезка isS1, is — это является ли оно S1 — это старт первого in 2 — вот такой\n",
    "# смысл имеет это страшное название: начала первого отрезка во втором.\n",
    "# Для этого нужно, чтобы начало второго отрезка было меньше, либо равно, чем начало первого отрезка и,\n",
    "# в свою очередь, это начало первого отрезка должно находиться до конца второго, тогда начало первого\n",
    "# отрезка лежит внутри второго.\n",
    "\n",
    "# isS1in2 = start2 <= start1 <= finish2\n",
    "# isF1in2 = start2 <= finish1 <= finish2\n",
    "# isS2in1 = start1 <= start2 <= finish1\n",
    "# isF2in1 = start1 <= finish2 <= finish1\n",
    "\n",
    "# answer =isS1in2 or isF1in2 or isS2in1 or isF2in1\n",
    "\n",
    "# Начало первого отрезка меньше либо равно, чем конец второго. И одновременно с этим начало второго отрезка\n",
    "# меньше либо равно, чем конец первого. Здесь мы используем and — логическую связку \"и\".\n",
    "\n",
    "answer = start1<= finish2 and start2 <= finish1\n",
    "\n",
    "print(answer)"
   ],
   "metadata": {
    "collapsed": false,
    "pycharm": {
     "name": "#%%\n"
    }
   }
  },
  {
   "cell_type": "markdown",
   "source": [
    "Условный оператор"
   ],
   "metadata": {
    "collapsed": false
   }
  },
  {
   "cell_type": "code",
   "execution_count": 8,
   "outputs": [
    {
     "name": "stdout",
     "output_type": "stream",
     "text": [
      "3\n"
     ]
    }
   ],
   "source": [
    "x = int(input())\n",
    "if x < 0 :\n",
    "# if x < 0 and x//0==0:\n",
    "    x = -x\n",
    "print(x)\n"
   ],
   "metadata": {
    "collapsed": false,
    "pycharm": {
     "name": "#%%\n"
    }
   }
  },
  {
   "cell_type": "code",
   "execution_count": null,
   "outputs": [],
   "source": [
    "x = int(input())\n",
    "if x >= 0:\n",
    "    print(x)\n",
    "else:\n",
    "    print(-x)"
   ],
   "metadata": {
    "collapsed": false,
    "pycharm": {
     "name": "#%%\n"
    }
   }
  },
  {
   "cell_type": "markdown",
   "source": [
    "Вложенный условный оператор и \"иначе-если\"\n"
   ],
   "metadata": {
    "collapsed": false
   }
  },
  {
   "cell_type": "code",
   "execution_count": null,
   "outputs": [],
   "source": [
    "# Внутри блока команд могут находиться другие условные операторы. Посмотрим сразу на примере.\n",
    "# По заданному количеству глаз и ног нужно научиться отличать кошку, паука, морского гребешка и жучка.\n",
    "# У морского гребешка бывает более сотни глаз, а у пауков их восемь. Также у пауков восемь ног, а у морского\n",
    "# гребешка их нет совсем. У кошки четыре ноги, а у жучка – шесть ног, но глаз у обоих по два. Решение:\n",
    "\n",
    "eyes = int(input())\n",
    "legs = int(input())\n",
    "if eyes >= 8:\n",
    "    if legs == 8:\n",
    "        print(\"spider\")\n",
    "    else:\n",
    "        print(\"scallop\")\n",
    "else:\n",
    "    if legs == 6:\n",
    "        print(\"bug\")\n",
    "    else:\n",
    "        print(\"cat\")\n",
    "\n",
    "# Если вложенных условных операторов несколько, то, к какому из них относится else, можно понять\n",
    "# по отступу. Отступ у else должен быть такой же, как у if, к которому он относится."
   ],
   "metadata": {
    "collapsed": false,
    "pycharm": {
     "name": "#%%\n"
    }
   }
  },
  {
   "cell_type": "code",
   "execution_count": null,
   "outputs": [],
   "source": [
    "# В некоторых ситуациях необходимо осуществить выбор больше чем из двух вариантов, которые могут быть\n",
    "# обработаны с помощью if-else. Рассмотрим пример: необходимо вывести словом название числа 1 или 2 или\n",
    "# сообщить, что это другое число:\n",
    "\n",
    "number = int(input())\n",
    "if number == 1:\n",
    "    print('One')\n",
    "elif number == 2:\n",
    "    print('Two')\n",
    "else:\n",
    "    print('Other')\n",
    "\n",
    "# Здесь используется специальная конструкция elif, обозначающая \"иначе, если\", после которой записывается\n",
    "# условие. Такая конструкция введена в язык Питон, потому что запись if-else приведет к увеличению отступа\n",
    "# и ухудшению читаемости.\n",
    "\n",
    "# Конструкций elif может быть несколько, условия проверяются последовательно. Как только условие выполнено,\n",
    "# запускается соответствующий этому условию блок команд и дальнейшая проверка не выполняется.\n",
    "# Блок else является необязательным, как и в обычном if."
   ],
   "metadata": {
    "collapsed": false,
    "pycharm": {
     "name": "#%%\n"
    }
   }
  },
  {
   "cell_type": "code",
   "execution_count": 9,
   "outputs": [
    {
     "name": "stdout",
     "output_type": "stream",
     "text": [
      "4\n"
     ]
    }
   ],
   "source": [
    "# Координатные четверти.\n",
    "# Координатные четверти разделяют всю нашу плоскость на четыре четверти.\n",
    "# Если x и y положительны — то это первая четверть. Если x отрицательно,\n",
    "# а y положительно — это вторая четверть, ну и так далее против часовой стрелки до четырех номеров.\n",
    "\n",
    "# И у нас есть задача: по введенным координатам точки x и y (пусть они для простоты не равны нулю),\n",
    "# определить, в какой координатной четверти находится эта точка.\n",
    "\n",
    "x = int(input())\n",
    "y = int(input())\n",
    "\n",
    "if x > 0:\n",
    "    if y > 0:\n",
    "        print(1)\n",
    "    else:\n",
    "        print(4)\n",
    "else:\n",
    "    if y > 0:\n",
    "        print(2)\n",
    "    else:\n",
    "        print(3)"
   ],
   "metadata": {
    "collapsed": false,
    "pycharm": {
     "name": "#%%\n"
    }
   }
  },
  {
   "cell_type": "code",
   "execution_count": null,
   "outputs": [],
   "source": [
    " # Задача.\n",
    "# Например, мы хотим по введенному числу выводить его текстовое название на английском языке,\n",
    "# хотя бы для чисел 1, 2 и 3.\n",
    "\n",
    "\n",
    "x = int(input())\n",
    "if x == 1:\n",
    "    print('One')\n",
    "else:\n",
    "    if x == 2:\n",
    "        print('Two')\n",
    "    else:\n",
    "        if x == 3:\n",
    "            print('Three')\n",
    "        else:\n",
    "            print('Other')"
   ],
   "metadata": {
    "collapsed": false,
    "pycharm": {
     "name": "#%%\n"
    }
   }
  },
  {
   "cell_type": "code",
   "execution_count": 11,
   "outputs": [
    {
     "name": "stdout",
     "output_type": "stream",
     "text": [
      "Other\n"
     ]
    }
   ],
   "source": [
    "# Теперь представим себе, что у нас не три числа, а пару десятков вариантов. Как вы видите,\n",
    "# у нас добавляются каждый раз отступы, и через некоторое время наша программа полностью уедет за\n",
    "# пределы экрана.\n",
    "\n",
    "# в Phyton придумана конструкция elif — сокращение от else и if, которая позволяет не делать\n",
    "# дополнительный отступ.\n",
    "\n",
    "x = int(input())\n",
    "if x == 1:\n",
    "    print('One')\n",
    "elif x == 2:\n",
    "    print('Two')\n",
    "elif x == 3:\n",
    "    print('Three')\n",
    "else:\n",
    "    print('Other')\n"
   ],
   "metadata": {
    "collapsed": false,
    "pycharm": {
     "name": "#%%\n"
    }
   }
  }
 ],
 "metadata": {
  "kernelspec": {
   "display_name": "Python 3",
   "language": "python",
   "name": "python3"
  },
  "language_info": {
   "codemirror_mode": {
    "name": "ipython",
    "version": 2
   },
   "file_extension": ".py",
   "mimetype": "text/x-python",
   "name": "python",
   "nbconvert_exporter": "python",
   "pygments_lexer": "ipython2",
   "version": "2.7.6"
  }
 },
 "nbformat": 4,
 "nbformat_minor": 0
}