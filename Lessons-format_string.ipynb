{
 "cells": [
  {
   "cell_type": "code",
   "execution_count": 4,
   "metadata": {
    "collapsed": true,
    "pycharm": {
     "name": "#%%\n"
    }
   },
   "outputs": [
    {
     "name": "stdout",
     "output_type": "stream",
     "text": [
      "My name is Andrey\n",
      "My name is Andrey\n",
      "My name is Andrey and I'm 45\n"
     ]
    }
   ],
   "source": [
    "print(\"My name is {}\".format(\"Andrey\"))\n",
    "\n",
    "my_name = \"Andrey\"\n",
    "\n",
    "print(\"My name is {}\".format(my_name))\n",
    "\n",
    "print(\"My name is {} and I'm {}\".format(my_name, 45)) # аргументы плейсхолдера слева на право от 0\n"
   ]
  },
  {
   "cell_type": "code",
   "execution_count": 11,
   "outputs": [
    {
     "name": "stdout",
     "output_type": "stream",
     "text": [
      "Pi equals 3.14\n",
      "Pi equals    3.14\n"
     ]
    }
   ],
   "source": [
    "pi = 3.14\n",
    "\n",
    "print(\"Pi equals {pi:1.2f}\".format(pi=pi))\n",
    "print(\"Pi equals {pi:7.2f}\".format(pi=pi)) # увлечение с 1 до 7 говорит о смешении вывода числа пи"
   ],
   "metadata": {
    "collapsed": false,
    "pycharm": {
     "name": "#%%\n"
    }
   }
  },
  {
   "cell_type": "code",
   "execution_count": 10,
   "outputs": [
    {
     "name": "stdout",
     "output_type": "stream",
     "text": [
      "My name is Andrey and I'm 45\n"
     ]
    }
   ],
   "source": [
    "name = \"Andrey\"\n",
    "age = 45\n",
    "print(f\"My name is {name} and I'm {age}\")"
   ],
   "metadata": {
    "collapsed": false,
    "pycharm": {
     "name": "#%%\n"
    }
   }
  },
  {
   "cell_type": "code",
   "execution_count": 12,
   "outputs": [
    {
     "name": "stdout",
     "output_type": "stream",
     "text": [
      "Pi equals 3.14\n"
     ]
    }
   ],
   "source": [
    "print(f\"Pi equals {pi:1.2f}\")"
   ],
   "metadata": {
    "collapsed": false,
    "pycharm": {
     "name": "#%%\n"
    }
   }
  }
 ],
 "metadata": {
  "kernelspec": {
   "display_name": "Python 3",
   "language": "python",
   "name": "python3"
  },
  "language_info": {
   "codemirror_mode": {
    "name": "ipython",
    "version": 2
   },
   "file_extension": ".py",
   "mimetype": "text/x-python",
   "name": "python",
   "nbconvert_exporter": "python",
   "pygments_lexer": "ipython2",
   "version": "2.7.6"
  }
 },
 "nbformat": 4,
 "nbformat_minor": 0
}