{
 "cells": [
  {
   "cell_type": "code",
   "execution_count": 73,
   "metadata": {},
   "outputs": [
    {
     "name": "stdout",
     "output_type": "stream",
     "text": [
      "C:\\Users\\VladG\\PycharmProjects\\Fofanov-course\n"
     ]
    }
   ],
   "source": [
    "# Показать путь где мы находимся при помощи \"pwd\" - работает либо в jupyter or python console\n",
    "\n",
    "import os\n",
    "dirpath = os.getcwd()\n",
    "\n",
    "print(dirpath)"
   ]
  },
  {
   "cell_type": "code",
   "execution_count": 74,
   "metadata": {
    "pycharm": {
     "name": "#%%\n"
    }
   },
   "outputs": [
    {
     "name": "stdout",
     "output_type": "stream",
     "text": [
      "Overwriting sample.txt\n"
     ]
    }
   ],
   "source": [
    "%%writefile sample.txt\n",
    "Name|Phone\n",
    "John;1234\n",
    "Bob;5678\n",
    "Aliace;9432"
   ]
  },
  {
   "cell_type": "code",
   "execution_count": 2,
   "metadata": {
    "pycharm": {
     "name": "#%%\n"
    }
   },
   "outputs": [
    {
     "data": {
      "text/plain": "<_io.TextIOWrapper name='sample.txt' mode='r' encoding='cp1251'>"
     },
     "execution_count": 2,
     "metadata": {},
     "output_type": "execute_result"
    }
   ],
   "source": [
    "file = open('sample.txt') # открыть файл\n",
    "file"
   ]
  },
  {
   "cell_type": "code",
   "execution_count": 3,
   "metadata": {
    "pycharm": {
     "name": "#%%\n"
    }
   },
   "outputs": [
    {
     "data": {
      "text/plain": "'Name|Phone\\nJohn;1234\\nBob;5678\\nAliace;9432\\n'"
     },
     "execution_count": 3,
     "metadata": {},
     "output_type": "execute_result"
    }
   ],
   "source": [
    "data = file.read() # прочитать файл\n",
    "data"
   ]
  },
  {
   "cell_type": "code",
   "execution_count": 4,
   "metadata": {
    "pycharm": {
     "name": "#%%\n"
    }
   },
   "outputs": [
    {
     "name": "stdout",
     "output_type": "stream",
     "text": [
      "Name|Phone\n",
      "John;1234\n",
      "Bob;5678\n",
      "Aliace;9432\n",
      "\n"
     ]
    }
   ],
   "source": [
    "# вывести данный из файла\n",
    "print(data)"
   ]
  },
  {
   "cell_type": "code",
   "execution_count": 5,
   "metadata": {
    "pycharm": {
     "name": "#%%\n"
    }
   },
   "outputs": [
    {
     "name": "stdout",
     "output_type": "stream",
     "text": [
      "\n"
     ]
    }
   ],
   "source": [
    "# Внутренний курсор считывает данные до конца файла если попытаться еще раз вывести\n",
    "# данные из файла то уже не получиться так как уже все прочититано.\n",
    "print(file.read())"
   ]
  },
  {
   "cell_type": "code",
   "execution_count": 6,
   "metadata": {
    "pycharm": {
     "name": "#%%\n"
    }
   },
   "outputs": [
    {
     "name": "stdout",
     "output_type": "stream",
     "text": [
      "Name|Phone\n",
      "John;1234\n",
      "Bob;5678\n",
      "Aliace;9432\n",
      "\n"
     ]
    }
   ],
   "source": [
    "# Однако через фунцию seek которая возвращает курсор файла в начало (в нулевой байт)\n",
    "# и файл снова может быть прочитан\n",
    "file.seek(0)\n",
    "print(file.read())"
   ]
  },
  {
   "cell_type": "code",
   "execution_count": 7,
   "metadata": {
    "pycharm": {
     "name": "#%%\n"
    }
   },
   "outputs": [
    {
     "name": "stdout",
     "output_type": "stream",
     "text": [
      "<class 'str'>\n",
      "<class 'list'>\n",
      "['Name|Phone\\n', 'John;1234\\n', 'Bob;5678\\n', 'Aliace;9432\\n']\n"
     ]
    },
    {
     "data": {
      "text/plain": "4"
     },
     "execution_count": 7,
     "metadata": {},
     "output_type": "execute_result"
    }
   ],
   "source": [
    "print(type(data)) # Видим что класс данных str\n",
    "file.seek(0)\n",
    "\n",
    "# Но удобно использовать функцию readline котороя возвращает список строк\n",
    "lines = file.readlines()\n",
    "print(type(lines))\n",
    "print(lines)\n",
    "\n",
    "# функция len(объект) возвращает целое число (int) равное количеству элементов объекта.\n",
    "# объектом - выступает любая последовательность (str, list, tuple), отображение ( словарь (dict))\n",
    "# или коллекция (множество (set) или неизменяемое множество (frozenset))\n",
    "# В нашем случае возвращает количество элементов списка\n",
    "len(lines)"
   ]
  },
  {
   "cell_type": "markdown",
   "metadata": {},
   "source": [
    "А если нужно прочитать файл из другого источника."
   ]
  },
  {
   "cell_type": "code",
   "execution_count": 8,
   "metadata": {
    "pycharm": {
     "name": "#%%\n"
    }
   },
   "outputs": [],
   "source": [
    "sample_file = open(r'C:\\Users\\VladG\\PycharmProjects\\Fofanov-course\\sample.txt')\n",
    "\n",
    "# or open with double back slashes eg: file = open('C:\\\\Users\\\\VladG\\\\PycharmProjects\\\\Fofanov-course\\\\sample.txt')\n",
    "# on Linux, we use slashes, so there's no need in r'C:\\....'\n",
    "# file = open(/Users/VladG/PycharmProjects/Fofanov-course/sample.sxt)"
   ]
  },
  {
   "cell_type": "markdown",
   "metadata": {},
   "source": [
    "После того как мы поработали с файлами его необходимо закрыть."
   ]
  },
  {
   "cell_type": "code",
   "execution_count": 9,
   "metadata": {
    "pycharm": {
     "name": "#%%\n"
    }
   },
   "outputs": [],
   "source": [
    "file.close()\n",
    "sample_file.close()"
   ]
  },
  {
   "cell_type": "code",
   "execution_count": 10,
   "metadata": {
    "pycharm": {
     "name": "#%%\n"
    }
   },
   "outputs": [
    {
     "name": "stdout",
     "output_type": "stream",
     "text": [
      "None\n",
      "None\n"
     ]
    }
   ],
   "source": [
    "print(file.close())\n",
    "print(sample_file.close())"
   ]
  },
  {
   "cell_type": "code",
   "execution_count": 11,
   "outputs": [],
   "source": [
    "# Что бы не забыть закрыть файл используется функция with\n",
    "# Файл открывается только в блоке и по выходу из блока автоматически закрывается\n",
    "\n",
    "with open('sample.txt') as sample_file:\n",
    "    sample_data = sample_file.read()"
   ],
   "metadata": {
    "collapsed": false,
    "pycharm": {
     "name": "#%%\n"
    }
   }
  },
  {
   "cell_type": "code",
   "execution_count": 12,
   "outputs": [
    {
     "name": "stdout",
     "output_type": "stream",
     "text": [
      "Name|Phone\n",
      "John;1234\n",
      "Bob;5678\n",
      "Aliace;9432\n",
      "\n"
     ]
    }
   ],
   "source": [
    "print(sample_data)\n"
   ],
   "metadata": {
    "collapsed": false,
    "pycharm": {
     "name": "#%%\n"
    }
   }
  },
  {
   "cell_type": "markdown",
   "source": [
    "Режимы открытия файлов (File modes)\n",
    "'r'- режим чтения. По умолчанию. Это позволяет вам только читать файл, но не изменять его. При использовании этого режима файл должен существовать.\n",
    "\n",
    "'w'- режим письма. Он создаст новый файл, если он не существует, в противном случае он сотрет файл и позволит вам писать в него.\n",
    "\n",
    "'a'- режим добавления. Он запишет данные в конец файла. Он не стирает файл, и файл должен существовать для этого режима.\n",
    "\n",
    "'r+'- режим чтения плюс режим записи одновременно. Это позволяет вам одновременно читать и записывать файлы без использования rи w.\n",
    "\n",
    "'w+'- режим письма и чтения. Точно так же, r+но если файл не существует, создается новый. В противном случае файл будет перезаписан.\n",
    "\n",
    "'a+'- режим добавления и чтения. Аналогично тому, w+как он создаст новый файл, если файл не существует. В противном случае указатель файла находится в конце файла, если он существует."
   ],
   "metadata": {
    "collapsed": false
   }
  },
  {
   "cell_type": "code",
   "execution_count": 13,
   "outputs": [],
   "source": [
    "with open('sample.txt', mode='a') as sample_file:\n",
    "    sample_file.write('Gera;1975')"
   ],
   "metadata": {
    "collapsed": false,
    "pycharm": {
     "name": "#%%\n"
    }
   }
  },
  {
   "cell_type": "code",
   "execution_count": 14,
   "outputs": [
    {
     "name": "stdout",
     "output_type": "stream",
     "text": [
      "Name|Phone\n",
      "John;1234\n",
      "Bob;5678\n",
      "Aliace;9432\n",
      "Gera;1975\n"
     ]
    }
   ],
   "source": [
    "with open('sample.txt', mode='r') as sample_file:\n",
    "    print(sample_file.read())"
   ],
   "metadata": {
    "collapsed": false,
    "pycharm": {
     "name": "#%%\n"
    }
   }
  },
  {
   "cell_type": "markdown",
   "source": [
    "А если хочется почитать и добавить\n"
   ],
   "metadata": {
    "collapsed": false
   }
  },
  {
   "cell_type": "code",
   "execution_count": 15,
   "outputs": [
    {
     "name": "stdout",
     "output_type": "stream",
     "text": [
      "Name|Phone\n",
      "John;1234\n",
      "Bob;5678\n",
      "Aliace;9432\n",
      "Gera;1975\n",
      "Tonya;5628\n"
     ]
    }
   ],
   "source": [
    "with open('sample.txt', mode='r+') as sample_file:\n",
    "    sample_file.seek(0,2) # указываем смещение\n",
    "    sample_file.write('\\nTonya;5628')\n",
    "    sample_file.seek(0)\n",
    "    print(sample_file.read())"
   ],
   "metadata": {
    "collapsed": false,
    "pycharm": {
     "name": "#%%\n"
    }
   }
  },
  {
   "cell_type": "code",
   "execution_count": 16,
   "outputs": [
    {
     "name": "stdout",
     "output_type": "stream",
     "text": [
      "abra-abra-abra-cadabra\n"
     ]
    }
   ],
   "source": [
    "# Еще пример\n",
    "with open('abracadabra.txt',mode='w+') as spell_file: # файл заклинаний\n",
    "    spell_file.write('abra-abra-abra-cadabra')\n",
    "    spell_file.seek(0)\n",
    "    print(spell_file.read())\n"
   ],
   "metadata": {
    "collapsed": false,
    "pycharm": {
     "name": "#%%\n"
    }
   }
  },
  {
   "cell_type": "code",
   "execution_count": null,
   "metadata": {},
   "outputs": [],
   "source": []
  }
 ],
 "metadata": {
  "kernelspec": {
   "display_name": "Python 3",
   "language": "python",
   "name": "python3"
  },
  "language_info": {
   "codemirror_mode": {
    "name": "ipython",
    "version": 3
   },
   "file_extension": ".py",
   "mimetype": "text/x-python",
   "name": "python",
   "nbconvert_exporter": "python",
   "pygments_lexer": "ipython3",
   "version": "3.7.8"
  }
 },
 "nbformat": 4,
 "nbformat_minor": 1
}