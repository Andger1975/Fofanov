{
 "cells": [
  {
   "cell_type": "markdown",
   "metadata": {},
   "source": [
    "Циклы. ДЗ-1-2\n",
    "1. Вывести лесенкой символ звёздочки по кол-ву строк, заданных пользователем:\n",
    "запросить ввод у пользователя кол-ва строк, вывести звёздочки лесенкой.\n",
    "\n",
    "- Например, пользователь ввёл число 2. Тогда выводим:\n",
    "*\n",
    "**\n",
    "\n",
    "- Например, пользователь ввёл число 4. Тогда выводим:\n",
    "*\n",
    "\n",
    "**\n",
    "\n",
    "***\n",
    "\n",
    "****\n",
    "\n",
    "и так далее, смысл должен быть ясен.\n",
    "\n",
    "Примечание: символ можно умножать на число, получая строку с дублированным символом\n",
    "(но решить можно и без этого)\n",
    "\n",
    "2. Запросить у пользователя ввод числа. Построить цикл от 0 до введённого числа (включительно) и для чётных чисел вывести то, что они чётные, а для нечётных, что они нечётные. Пример вывода:\n",
    "\n",
    "0 is EVEN\n",
    "1 is ODD\n",
    "2 is EVEN\n",
    "\n",
    "и так далее..."
   ]
  },
  {
   "cell_type": "code",
   "execution_count": 1,
   "metadata": {},
   "outputs": [
    {
     "name": "stdout",
     "output_type": "stream",
     "text": [
      "Take a guess:43\n",
      " Your guess is too high\n",
      "Take a guess:25\n",
      " Your guess is too high\n",
      "Take a guess:12\n",
      " Your guess is too high\n",
      "Take a guess:6\n",
      " Your guess is too high\n",
      "Take a guess:3\n",
      " Your guess is too high\n",
      "Take a guess:4\n",
      " Your guess is too high\n",
      "Sorry, but you didn't make it. My number was: 1\n"
     ]
    }
   ],
   "source": [
    "import random\n",
    "\n",
    "tries = 0 # попытка\n",
    "number = random.randint (1, 50)\n",
    "\n",
    "while tries<6:\n",
    "    guess = int(input(\"Take a guess:\"))\n",
    "\n",
    "    tries +=1\n",
    "\n",
    "    if guess < number:\n",
    "        print(' Your guess is too low')\n",
    "    if guess > number:\n",
    "        print(' Your guess is too high')\n",
    "    if guess == number:\n",
    "        print(f'Congratulations! You guessed my number in {tries} guesses. ')\n",
    "        break\n",
    "    if guess !=number and tries==6:\n",
    "        print(f\"Sorry, but you didn't make it. My number was: {number}\" )\n",
    "        break"
   ]
  },
  {
   "cell_type": "code",
   "execution_count": null,
   "metadata": {},
   "outputs": [],
   "source": []
  }
 ],
 "metadata": {
  "kernelspec": {
   "display_name": "Python 3",
   "language": "python",
   "name": "python3"
  },
  "language_info": {
   "codemirror_mode": {
    "name": "ipython",
    "version": 3
   },
   "file_extension": ".py",
   "mimetype": "text/x-python",
   "name": "python",
   "nbconvert_exporter": "python",
   "pygments_lexer": "ipython3",
   "version": "3.7.8"
  }
 },
 "nbformat": 4,
 "nbformat_minor": 1
}
