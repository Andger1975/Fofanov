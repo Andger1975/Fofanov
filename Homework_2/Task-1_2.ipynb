{
 "cells": [
  {
   "cell_type": "markdown",
   "source": [
    "##### 1. Вывести лесенкой символ звёздочки по кол-ву строк, заданных пользователем:\n",
    "##### запросить ввод у пользователя кол-ва строк, вывести звёздочки лесенкой.\n",
    "\n",
    "##### - Например, пользователь ввёл число 2. Тогда выводим:\n",
    "##### *\n",
    "##### **\n",
    "##### - Например, пользователь ввёл число 4. Тогда выводим:\n",
    "##### *\n",
    "##### **\n",
    "##### ***\n",
    "##### ****\n",
    "##### и так далее, смысл должен быть ясен.\n",
    "\n",
    "##### Примечание: символ можно умножать на число, получая строку с дублированным символом\n",
    "##### (но решить можно и без этого)"
   ],
   "metadata": {
    "collapsed": false
   }
  },
  {
   "cell_type": "code",
   "execution_count": 3,
   "outputs": [
    {
     "name": "stdout",
     "output_type": "stream",
     "text": [
      "*\n",
      "**\n",
      "***\n",
      "****\n",
      "*****\n",
      "******\n",
      "*******\n",
      "********\n",
      "*********\n",
      "**********\n"
     ]
    }
   ],
   "source": [
    "star = input(' Введите количество символов')\n",
    "stars = int(star)\n",
    "# Делаем цикл\n",
    "# Функция range сгенерирует нам список чисел до n\n",
    "for x in range(stars):\n",
    "    print('*'* (x+1))\n"
   ],
   "metadata": {
    "collapsed": false,
    "pycharm": {
     "name": "#%%\n"
    }
   }
  },
  {
   "cell_type": "markdown",
   "source": [
    "##### 2. Запросить у пользователя ввод числа. Построить цикл от 0 до введённого числа (включительно)\n",
    "##### и для чётных чисел вывести то, что они чётные, а для нечётных, что они нечётные. Пример вывода:\n",
    "##### 0 is EVEN\n",
    "##### 1 is ODD\n",
    "##### 2 is EVEN"
   ],
   "metadata": {
    "collapsed": false
   }
  },
  {
   "cell_type": "code",
   "execution_count": 7,
   "outputs": [
    {
     "name": "stdout",
     "output_type": "stream",
     "text": [
      "0 is EVEN\n",
      "1 is ODD\n",
      "2 is EVEN\n",
      "3 is ODD\n",
      "4 is EVEN\n",
      "5 is ODD\n",
      "6 is EVEN\n",
      "7 is ODD\n",
      "8 is EVEN\n",
      "9 is ODD\n",
      "10 is EVEN\n"
     ]
    }
   ],
   "source": [
    "star = input(' Введите число')\n",
    "stars = int(star)\n",
    "# Делаем цикл\n",
    "# Функция range сгенерирует нам список чисел до n\n",
    "# Для того чтобы увидеть полный star мы пишим +1\n",
    "for v in range(stars+1):\n",
    "    if v % 2==0:\n",
    "        print(f'{v} is EVEN')\n",
    "    else:\n",
    "       print(f'{v} is ODD')"
   ],
   "metadata": {
    "collapsed": false,
    "pycharm": {
     "name": "#%%\n"
    }
   }
  }
 ],
 "metadata": {
  "kernelspec": {
   "display_name": "Python 3",
   "language": "python",
   "name": "python3"
  },
  "language_info": {
   "codemirror_mode": {
    "name": "ipython",
    "version": 2
   },
   "file_extension": ".py",
   "mimetype": "text/x-python",
   "name": "python",
   "nbconvert_exporter": "python",
   "pygments_lexer": "ipython2",
   "version": "2.7.6"
  }
 },
 "nbformat": 4,
 "nbformat_minor": 0
}