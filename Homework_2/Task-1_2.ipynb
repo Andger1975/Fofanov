{
 "cells": [
  {
   "cell_type": "markdown",
   "source": [
    "##### 1. Вывести лесенкой символ звёздочки по кол-ву строк, заданных пользователем:\n",
    "##### запросить ввод у пользователя кол-ва строк, вывести звёздочки лесенкой.\n",
    "\n",
    "##### - Например, пользователь ввёл число 2. Тогда выводим:\n",
    "##### *\n",
    "##### **\n",
    "##### - Например, пользователь ввёл число 4. Тогда выводим:\n",
    "##### *\n",
    "##### **\n",
    "##### ***\n",
    "##### ****\n",
    "##### и так далее, смысл должен быть ясен.\n",
    "\n",
    "##### Примечание: символ можно умножать на число, получая строку с дублированным символом\n",
    "##### (но решить можно и без этого)"
   ],
   "metadata": {
    "collapsed": false
   }
  },
  {
   "cell_type": "code",
   "execution_count": 1,
   "outputs": [
    {
     "name": "stdout",
     "output_type": "stream",
     "text": [
      "*\n",
      "**\n",
      "***\n"
     ]
    }
   ],
   "source": [
    "star = input(' Введите количество символов')\n",
    "stars = int(star)\n",
    "# Делаем цикл\n",
    "# Функция range сгенерирует нам список чисел до n\n",
    "for x in range(stars):\n",
    "    print('*'* (x+1))\n"
   ],
   "metadata": {
    "collapsed": false,
    "pycharm": {
     "name": "#%%\n"
    }
   }
  },
  {
   "cell_type": "markdown",
   "source": [
    "##### 2. Запросить у пользователя ввод числа. Построить цикл от 0 до введённого числа (включительно)\n",
    "##### и для чётных чисел вывести то, что они чётные, а для нечётных, что они нечётные. Пример вывода:\n",
    "##### 0 is EVEN\n",
    "##### 1 is ODD\n",
    "##### 2 is EVEN"
   ],
   "metadata": {
    "collapsed": false
   }
  },
  {
   "cell_type": "code",
   "execution_count": 2,
   "outputs": [
    {
     "name": "stdout",
     "output_type": "stream",
     "text": [
      "0 is EVEN\n",
      "1 is ODD\n",
      "2 is EVEN\n",
      "3 is ODD\n",
      "4 is EVEN\n",
      "5 is ODD\n"
     ]
    }
   ],
   "source": [
    "star = input(' Введите число')\n",
    "stars = int(star)\n",
    "# Делаем цикл\n",
    "# Функция range сгенерирует нам список чисел до n\n",
    "# Для того чтобы увидеть полный star мы пишим +1\n",
    "for v in range(stars+1):\n",
    "    if v % 2==0:\n",
    "        print(f'{v} is EVEN')\n",
    "    else:\n",
    "       print(f'{v} is ODD')\n",
    "\n",
    "# Можно сделать "
   ],
   "metadata": {
    "collapsed": false,
    "pycharm": {
     "name": "#%%\n"
    }
   }
  },
  {
   "cell_type": "markdown",
   "source": [
    "##### 3. Построить цикл от 0 до введеного числа (включительно) и подсчитать сумму всех\n",
    "##### чисел, делимых без остатка на 3 или 5\n",
    "##### Вывести это число\n",
    "##### Можно решить как через for так и через list comprehension, просуммировать числа\n",
    "##### профильтрованного списка можно через функцию sum(arg_list)"
   ],
   "metadata": {
    "collapsed": false
   }
  },
  {
   "cell_type": "code",
   "execution_count": 2,
   "outputs": [
    {
     "name": "stdout",
     "output_type": "stream",
     "text": [
      "Total summ = 33\n"
     ]
    }
   ],
   "source": [
    "limit = int(input(' Введите число'))\n",
    "\n",
    "su = 0\n",
    "for v in range(limit+1):\n",
    "    if v % 3==0 or v % 5==0:\n",
    "        su += v\n",
    "    else:\n",
    "        continue\n",
    "\n",
    "print(f'Total summ = {su}')\n",
    "\n",
    "# Еще вариант решения данной задачи\n",
    "\n",
    "# limit = int(input(' Введите число'))\n",
    "\n",
    "# total_sum = sum([v for v in range(limit +1) if v % 3==0 or v % 5==0])\n",
    "\n",
    "# print(f'Total summ = {su}')"
   ],
   "metadata": {
    "collapsed": false,
    "pycharm": {
     "name": "#%%\n"
    }
   }
  },
  {
   "cell_type": "markdown",
   "source": [
    "##### 4. На вход подаються два списка чисел длинны N\n",
    "##### Взять из первог8о списка все нечетные числа, из второго все четные и объединить их\n",
    "##### в новом списке с названием joined_list\n",
    "##### Можно сделать двумя циклами for, можно одним, можно list comprehension\n",
    "##### Первыми в joined_list должны идти нечетные числа."
   ],
   "metadata": {
    "collapsed": false
   }
  },
  {
   "cell_type": "code",
   "execution_count": 5,
   "outputs": [
    {
     "name": "stdout",
     "output_type": "stream",
     "text": [
      " Merged list [1, 3, 5, 12, 14]\n"
     ]
    }
   ],
   "source": [
    "#limit_1 = input(' Введите число')\n",
    "# limit_2 = input(' Введите число')\n",
    "\n",
    "first_list = [1,2,3,4,5,6]\n",
    "second_list = [11,12,13,14,15]\n",
    "joined_list = []\n",
    "for x in first_list:\n",
    "    if x % 2 !=0:\n",
    "        joined_list.append(x)\n",
    "for x in second_list:\n",
    "        if x % 2 == 0:\n",
    "            joined_list.append(x)\n",
    "print(f' Merged list {joined_list}')"
   ],
   "metadata": {
    "collapsed": false,
    "pycharm": {
     "name": "#%%\n"
    }
   }
  },
  {
   "cell_type": "code",
   "execution_count": null,
   "outputs": [],
   "source": [
    "# Второй вариант решения данной задачи\n",
    "first_list = [1,2,3,4,5,6]\n",
    "second_list = [11,12,13,14,15]\n",
    "\n",
    "odds = [x for x in first_list if x % 2!=0]\n",
    "evens = [x for x in second_list if x % 2==0]\n",
    "joined_list = odds + evens\n",
    "\n",
    "print(f'Merged list: {joined_list}') # Merged - объединение"
   ],
   "metadata": {
    "collapsed": false,
    "pycharm": {
     "name": "#%%\n"
    }
   }
  },
  {
   "cell_type": "markdown",
   "source": [
    "##### 5. Card Sum\n",
    "##### Дан список карт. Например  current_hand = [2,3,4,10,'Q',5]. В общем и целом, список может\n",
    "##### содержать значения 2,3,4,5,6,7,8,9,10,'J','Q','K','A'.\n",
    "##### У каждой карты есть свой \"вес\"\n",
    "##### 2,3,4,5,6 - весят +1\n",
    "##### 7,8,9 - весят 0\n",
    "##### 10,'J','Q','K','A' - весят -1\n",
    "##### Задача имея список карт посчитать их общий вес. Возможно поможет словарь.\n",
    "##### Примеры входных данных и ожидаемых результатов:\n",
    "##### current_hand = [2,3,4,10,'Q',5] - общий вес = 2\n",
    "##### current_hand = ['А',3,4,10,'J',4] - общий вес = 0\n",
    "##### current_hand = [2,7,4,9,3,5] - общий вес = 4\n",
    "#####  Вычисленный общий вес карт записать в переменную cards_sum"
   ],
   "metadata": {
    "collapsed": false
   }
  },
  {
   "cell_type": "code",
   "execution_count": 3,
   "outputs": [
    {
     "name": "stdout",
     "output_type": "stream",
     "text": [
      "2\n"
     ]
    },
    {
     "data": {
      "text/plain": "dict"
     },
     "execution_count": 3,
     "metadata": {},
     "output_type": "execute_result"
    }
   ],
   "source": [
    "current_hand = [2,3,4,10,'Q',5]\n",
    "\n",
    "cards = {2:1, 3:1, 4:1, 5:1, 6:1, 7:0, 8:0, 9:0, 10:-1, 'J':-1, 'Q':-1, 'K':-1, 'A':-1}\n",
    "\n",
    "cards_sum =sum([cards[x] for x in current_hand])\n",
    "print(cards_sum)\n",
    "type(cards)"
   ],
   "metadata": {
    "collapsed": false,
    "pycharm": {
     "name": "#%%\n"
    }
   }
  },
  {
   "cell_type": "markdown",
   "source": [
    "##### 6. Определяем Flush\n",
    "##### Идет игра в семи-карточный техасский покер. На столе лежат пять карт и в руке две карты.\n",
    "##### Необходимо определить есть ли комбинация, называемая flush\n",
    "##### Комбинация флеш определяется наличием пяти карт одной масти (среди всех карт - на столе и в руке)\n",
    "##### Есть две переменные table_cards, hand_cards\n",
    "##### В первой 5 карт на столе во второй 2 карты в руке\n",
    "##### Примеры входных данных:\n",
    "##### [\"A_S\", \"J_H\", \"7_D\", \"8_D\", \"10_D\"] [\"J_D\", \"3_D\"]\n",
    "##### [\"10_S\", \"7_S\", \"9_H\", \"4_S\", \"3_S\"] [\"K_S\", \"Q_S\"]\n",
    "##### [\"3_S\", \"10_H\", \"10_D\", \"10_C\", \"10_S\"] [\"3_S\", \"4_D\"]\n",
    "##### Первый символ это наминал 2,3,4,5,6,7,8,9,10,J,Q,K,A\n",
    "##### Второй символ это подчеркивание\n",
    "##### Третий символ масть карты S пики H черви D буби C трефы\n",
    "##### Если есть комбинация флеш то - вывести на консоль \"Flush!\"  в противном случае \"No Flush!\""
   ],
   "metadata": {
    "collapsed": false
   }
  },
  {
   "cell_type": "code",
   "execution_count": 15,
   "outputs": [
    {
     "name": "stdout",
     "output_type": "stream",
     "text": [
      "Flush!\n"
     ]
    }
   ],
   "source": [
    "# import sys\n",
    "\n",
    "table_cards = [\"A_S\", \"J_H\", \"7_D\", \"8_D\", \"10_D\"]\n",
    "hand_cards =  [\"J_D\", \"3_D\"]\n",
    "\n",
    "table_suites = [x[-1] for x in table_cards]\n",
    "hand_suites = [x[-1] for x in hand_cards]\n",
    "\n",
    "suites_in_game = table_suites + hand_suites\n",
    "\n",
    "# suites - масть\n",
    "\n",
    "flush = False\n",
    "\n",
    "for x in 'CHSD':\n",
    "    if suites_in_game.count(x) >=5:\n",
    "        flush = True\n",
    "# Функция count() возвращает количество вхождений подстроки x\n",
    "if flush:\n",
    "        print(\"Flush!\")\n",
    "else:\n",
    "        print(\" No Flush!\")"
   ],
   "metadata": {
    "collapsed": false,
    "pycharm": {
     "name": "#%%\n"
    }
   }
  },
  {
   "cell_type": "code",
   "execution_count": 16,
   "outputs": [
    {
     "name": "stdout",
     "output_type": "stream",
     "text": [
      "Flush!\n"
     ]
    }
   ],
   "source": [
    "# Можно решить таким образом\n",
    "\n",
    "table_cards = [\"A_S\", \"J_H\", \"7_D\", \"8_D\", \"10_D\"]\n",
    "hand_cards =  [\"J_D\", \"3_D\"]\n",
    "\n",
    "table_suites = [x[-1] for x in table_cards]\n",
    "hand_suites = [x[-1] for x in hand_cards]\n",
    "\n",
    "suites_in_game = table_suites + hand_suites\n",
    "\n",
    "flush = any([suites_in_game.count(suit) >=5 for suit in 'CHSD'])\n",
    "\n",
    "if flush:\n",
    "    print(\"Flush!\")\n",
    "else:\n",
    "     print(\" No Flush!\")"
   ],
   "metadata": {
    "collapsed": false,
    "pycharm": {
     "name": "#%%\n"
    }
   }
  },
  {
   "cell_type": "code",
   "execution_count": 17,
   "outputs": [
    {
     "name": "stdout",
     "output_type": "stream",
     "text": [
      "Flush!\n"
     ]
    }
   ],
   "source": [
    "# Еще дно решение но не такое красивое\n",
    "\n",
    "table_cards = [\"A_S\", \"J_H\", \"7_D\", \"8_D\", \"10_D\"]\n",
    "hand_cards =  [\"J_D\", \"3_D\"]\n",
    "\n",
    "flush = any(sum([card[-1] == suit for card in table_cards+hand_cards]) >= 5 for suit in 'CHSD')\n",
    "\n",
    "if flush:\n",
    "    print(\"Flush!\")\n",
    "else:\n",
    "     print(\" No Flush!\")"
   ],
   "metadata": {
    "collapsed": false,
    "pycharm": {
     "name": "#%%\n"
    }
   }
  },
  {
   "cell_type": "markdown",
   "source": [
    "##### 7. Определяем Палиндром\n",
    "##### На вход подается число. Определить полиндром или нет.\n",
    "##### Число является Полиндромом если прочитанное справа на лево равно исходному числу.\n",
    "##### 121 - полиндром\n",
    "##### 222 - полиндром\n",
    "##### 321 - не палиндром\n",
    "##### 1212 - не палидром\n",
    "##### 12121 - палиндром\n",
    "##### Запрещается исходное число конвертировать в строку и применять к нее функцию реверсирования\n",
    "##### Проверку требуется проводить применяя математические операции к исходному числу.\n",
    "##### number % 10\n",
    "##### number * 10\n",
    "##### number //10\n",
    "##### если число является палиндромом то вывести на консоль 'Palindrome' иначе 'No Palindrome'"
   ],
   "metadata": {
    "collapsed": false
   }
  },
  {
   "cell_type": "code",
   "execution_count": 20,
   "outputs": [
    {
     "name": "stdout",
     "output_type": "stream",
     "text": [
      "No Palindrome\n"
     ]
    }
   ],
   "source": [
    "number = input(' Введите число')\n",
    "\n",
    "a = number[::-1]\n",
    "#print(a)\n",
    "if number == a:\n",
    "  print('Palindrome')\n",
    "else:\n",
    "  print('No Palindrome')"
   ],
   "metadata": {
    "collapsed": false,
    "pycharm": {
     "name": "#%%\n"
    }
   }
  },
  {
   "cell_type": "code",
   "execution_count": 22,
   "outputs": [
    {
     "name": "stdout",
     "output_type": "stream",
     "text": [
      "No Palindrome\n"
     ]
    }
   ],
   "source": [
    "# Второе решение\n",
    "number = int(input(' Enter a number'))\n",
    "\n",
    "revers_number = 0\n",
    "tmp_original = number\n",
    "\n",
    "while tmp_original > 0:\n",
    "    revers_number = (revers_number*10) + tmp_original %10\n",
    "    tmp_original = tmp_original //10\n",
    "\n",
    "if number == revers_number:\n",
    "    print('Palindrome')\n",
    "else:\n",
    "    print('No Palindrome')"
   ],
   "metadata": {
    "collapsed": false,
    "pycharm": {
     "name": "#%%\n"
    }
   }
  },
  {
   "cell_type": "markdown",
   "source": [
    "##### 8. Реализуйте одну классическую и достаточно простую игру: \"угадай число\".\n",
    "\n",
    "##### Компьютер загадывает число от 1 до 50 и даёт 6 попыток пользователю, чтобы тот смог угадать загаданное число.\n",
    "##### Когда пользователь вводит число, компьютер проверяет угадано ли число и если не угадано,\n",
    "##### то сообщает пользователю меньше ли или больше загаданое число. Если пользователь угадал - то сообщает о том,\n",
    "##### что число отгадано.\n",
    "\n",
    "##### Подсказка: для \"загадывания\" числа используйте модуль random:\n",
    "##### импортируйте его и для генерации (загадывания) числа вызовите метод random.randint(1, 50)."
   ],
   "metadata": {
    "collapsed": false
   }
  },
  {
   "cell_type": "code",
   "execution_count": 23,
   "outputs": [
    {
     "name": "stdout",
     "output_type": "stream",
     "text": [
      "19\n",
      "Загаданное число больше:  19\n",
      "Загаданное число меньше:  35\n",
      "Загаданное число больше:  24\n",
      "Загаданное число меньше:  33\n",
      "Загаданное число меньше:  31\n",
      "Загаданное число больше:  24\n",
      "25\n",
      "В яблочко, с 7 попытки\n"
     ]
    }
   ],
   "source": [
    "import random\n",
    "number = int(input(\"Введите число от 1 до 50: \"))\n",
    "\n",
    "x = 1\n",
    "y = 50\n",
    "guess = random.randint (x, y)\n",
    "print(guess)\n",
    "tries = 1\n",
    "\n",
    "if number == guess:\n",
    "    print('С первой попытки!')\n",
    "else:\n",
    "    while guess != number:\n",
    "        if number > guess:\n",
    "            print(\"Загаданное число больше: \", guess)\n",
    "            x = guess\n",
    "            guess = random.randint(x, y)\n",
    "            tries += 1\n",
    "        elif number < guess:\n",
    "            print(\"Загаданное число меньше: \", guess)\n",
    "            y = guess\n",
    "            guess = random.randint(x, y)\n",
    "            tries += 1\n",
    "    print (number)\n",
    "    print ('В яблочко, с', tries, 'попытки')\n",
    "\n"
   ],
   "metadata": {
    "collapsed": false,
    "pycharm": {
     "name": "#%%\n"
    }
   }
  }
 ],
 "metadata": {
  "kernelspec": {
   "display_name": "Python 3",
   "language": "python",
   "name": "python3"
  },
  "language_info": {
   "codemirror_mode": {
    "name": "ipython",
    "version": 2
   },
   "file_extension": ".py",
   "mimetype": "text/x-python",
   "name": "python",
   "nbconvert_exporter": "python",
   "pygments_lexer": "ipython2",
   "version": "2.7.6"
  }
 },
 "nbformat": 4,
 "nbformat_minor": 0
}