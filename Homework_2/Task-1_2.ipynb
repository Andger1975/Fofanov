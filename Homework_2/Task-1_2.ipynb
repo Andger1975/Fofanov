{
 "cells": [
  {
   "cell_type": "markdown",
   "source": [
    "##### 1. Вывести лесенкой символ звёздочки по кол-ву строк, заданных пользователем:\n",
    "##### запросить ввод у пользователя кол-ва строк, вывести звёздочки лесенкой.\n",
    "\n",
    "##### - Например, пользователь ввёл число 2. Тогда выводим:\n",
    "##### *\n",
    "##### **\n",
    "##### - Например, пользователь ввёл число 4. Тогда выводим:\n",
    "##### *\n",
    "##### **\n",
    "##### ***\n",
    "##### ****\n",
    "##### и так далее, смысл должен быть ясен.\n",
    "\n",
    "##### Примечание: символ можно умножать на число, получая строку с дублированным символом\n",
    "##### (но решить можно и без этого)"
   ],
   "metadata": {
    "collapsed": false
   }
  },
  {
   "cell_type": "code",
   "execution_count": 1,
   "outputs": [
    {
     "name": "stdout",
     "output_type": "stream",
     "text": [
      "*\n",
      "**\n",
      "***\n"
     ]
    }
   ],
   "source": [
    "star = input(' Введите количество символов')\n",
    "stars = int(star)\n",
    "# Делаем цикл\n",
    "# Функция range сгенерирует нам список чисел до n\n",
    "for x in range(stars):\n",
    "    print('*'* (x+1))\n"
   ],
   "metadata": {
    "collapsed": false,
    "pycharm": {
     "name": "#%%\n"
    }
   }
  },
  {
   "cell_type": "markdown",
   "source": [
    "##### 2. Запросить у пользователя ввод числа. Построить цикл от 0 до введённого числа (включительно)\n",
    "##### и для чётных чисел вывести то, что они чётные, а для нечётных, что они нечётные. Пример вывода:\n",
    "##### 0 is EVEN\n",
    "##### 1 is ODD\n",
    "##### 2 is EVEN"
   ],
   "metadata": {
    "collapsed": false
   }
  },
  {
   "cell_type": "code",
   "execution_count": 2,
   "outputs": [
    {
     "name": "stdout",
     "output_type": "stream",
     "text": [
      "0 is EVEN\n",
      "1 is ODD\n",
      "2 is EVEN\n",
      "3 is ODD\n",
      "4 is EVEN\n",
      "5 is ODD\n"
     ]
    }
   ],
   "source": [
    "star = input(' Введите число')\n",
    "stars = int(star)\n",
    "# Делаем цикл\n",
    "# Функция range сгенерирует нам список чисел до n\n",
    "# Для того чтобы увидеть полный star мы пишим +1\n",
    "for v in range(stars+1):\n",
    "    if v % 2==0:\n",
    "        print(f'{v} is EVEN')\n",
    "    else:\n",
    "       print(f'{v} is ODD')\n",
    "\n",
    "# Можно сделать "
   ],
   "metadata": {
    "collapsed": false,
    "pycharm": {
     "name": "#%%\n"
    }
   }
  },
  {
   "cell_type": "markdown",
   "source": [
    "##### 3. Построить цикл от 0 до введеного числа (включительно) и подсчитать сумму всех\n",
    "##### чисел, делимых без остатка на 3 или 5\n",
    "##### Вывести это число\n",
    "##### Можно решить как через for так и через list comprehension, просуммировать числа\n",
    "##### профильтрованного списка можно через функцию sum(arg_list)"
   ],
   "metadata": {
    "collapsed": false
   }
  },
  {
   "cell_type": "code",
   "execution_count": 2,
   "outputs": [
    {
     "name": "stdout",
     "output_type": "stream",
     "text": [
      "Total summ = 33\n"
     ]
    }
   ],
   "source": [
    "limit = int(input(' Введите число'))\n",
    "\n",
    "su = 0\n",
    "for v in range(limit+1):\n",
    "    if v % 3==0 or v % 5==0:\n",
    "        su += v\n",
    "    else:\n",
    "        continue\n",
    "\n",
    "print(f'Total summ = {su}')\n",
    "\n",
    "# Еще вариант решения данной задачи\n",
    "\n",
    "# limit = int(input(' Введите число'))\n",
    "\n",
    "# total_sum = sum([v for v in range(limit +1) if v % 3==0 or v % 5==0])\n",
    "\n",
    "# print(f'Total summ = {su}')"
   ],
   "metadata": {
    "collapsed": false,
    "pycharm": {
     "name": "#%%\n"
    }
   }
  },
  {
   "cell_type": "markdown",
   "source": [
    "##### 4. На вход подаються два списка чисел длинны N\n",
    "##### Взять из первог8о списка все нечетные числа, из второго все четные и объединить их\n",
    "##### в новом списке с названием joined_list\n",
    "##### Можно сделать двумя циклами for, можно одним, можно list comprehension\n",
    "##### Первыми в joined_list должны идти нечетные числа."
   ],
   "metadata": {
    "collapsed": false
   }
  },
  {
   "cell_type": "code",
   "execution_count": 5,
   "outputs": [
    {
     "name": "stdout",
     "output_type": "stream",
     "text": [
      " Merged list [1, 3, 5, 12, 14]\n"
     ]
    }
   ],
   "source": [
    "#limit_1 = input(' Введите число')\n",
    "# limit_2 = input(' Введите число')\n",
    "\n",
    "first_list = [1,2,3,4,5,6]\n",
    "second_list = [11,12,13,14,15]\n",
    "joined_list = []\n",
    "for x in first_list:\n",
    "    if x % 2 !=0:\n",
    "        joined_list.append(x)\n",
    "for x in second_list:\n",
    "        if x % 2 == 0:\n",
    "            joined_list.append(x)\n",
    "print(f' Merged list {joined_list}')"
   ],
   "metadata": {
    "collapsed": false,
    "pycharm": {
     "name": "#%%\n"
    }
   }
  },
  {
   "cell_type": "code",
   "execution_count": 6,
   "outputs": [
    {
     "name": "stdout",
     "output_type": "stream",
     "text": [
      "Merged list: [1, 3, 5, 12, 14]\n"
     ]
    }
   ],
   "source": [
    "# Второй вариант решения данной задачи\n",
    "first_list = [1,2,3,4,5,6]\n",
    "second_list = [11,12,13,14,15]\n",
    "\n",
    "odds = [x for x in first_list if x % 2!=0]\n",
    "evens = [x for x in second_list if x % 2==0]\n",
    "joined_list = odds + evens\n",
    "\n",
    "print(f'Merged list: {joined_list}')"
   ],
   "metadata": {
    "collapsed": false,
    "pycharm": {
     "name": "#%%\n"
    }
   }
  },
  {
   "cell_type": "markdown",
   "source": [
    "##### 5. Card Sum\n",
    "##### Дан список карт. Например  current_hand = [2,3,4,10,'Q',5]. В общем и целом, список может\n",
    "##### содержать значения 2,3,4,5,6,7,8,9,10,'J','Q','K','A'.\n",
    "##### У каждой карты есть свой \"вес\"\n",
    "##### 2,3,4,5,6 - весят +1\n",
    "##### 7,8,9 - весят 0\n",
    "##### 10,'J','Q','K','A' - весят -1\n",
    "##### Задача имея список карт посчитать их общий вес. Возможно поможет словарь.\n",
    "##### Примеры входных данных и ожидаемых результатов:\n",
    "##### current_hand = [2,3,4,10,'Q',5] - общий вес = 2\n",
    "##### current_hand = ['А',3,4,10,'J',4] - общий вес = 0\n",
    "##### current_hand = [2,7,4,9,3,5] - общий вес = 4\n",
    "#####  Вычисленный общий вес карт записать в переменную cards_sum"
   ],
   "metadata": {
    "collapsed": false
   }
  }
 ],
 "metadata": {
  "kernelspec": {
   "display_name": "Python 3",
   "language": "python",
   "name": "python3"
  },
  "language_info": {
   "codemirror_mode": {
    "name": "ipython",
    "version": 2
   },
   "file_extension": ".py",
   "mimetype": "text/x-python",
   "name": "python",
   "nbconvert_exporter": "python",
   "pygments_lexer": "ipython2",
   "version": "2.7.6"
  }
 },
 "nbformat": 4,
 "nbformat_minor": 0
}