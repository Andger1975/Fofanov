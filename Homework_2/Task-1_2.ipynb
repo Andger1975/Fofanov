{
 "cells": [
  {
   "cell_type": "markdown",
   "source": [
    "##### 1. Вывести лесенкой символ звёздочки по кол-ву строк, заданных пользователем:\n",
    "##### запросить ввод у пользователя кол-ва строк, вывести звёздочки лесенкой.\n",
    "\n",
    "##### - Например, пользователь ввёл число 2. Тогда выводим:\n",
    "##### *\n",
    "##### **\n",
    "##### - Например, пользователь ввёл число 4. Тогда выводим:\n",
    "##### *\n",
    "##### **\n",
    "##### ***\n",
    "##### ****\n",
    "##### и так далее, смысл должен быть ясен.\n",
    "\n",
    "##### Примечание: символ можно умножать на число, получая строку с дублированным символом\n",
    "##### (но решить можно и без этого)"
   ],
   "metadata": {
    "collapsed": false
   }
  },
  {
   "cell_type": "code",
   "execution_count": 1,
   "outputs": [
    {
     "name": "stdout",
     "output_type": "stream",
     "text": [
      "*\n",
      "**\n",
      "***\n"
     ]
    }
   ],
   "source": [
    "star = input(' Введите количество символов')\n",
    "stars = int(star)\n",
    "# Делаем цикл\n",
    "# Функция range сгенерирует нам список чисел до n\n",
    "for x in range(stars):\n",
    "    print('*'* (x+1))\n"
   ],
   "metadata": {
    "collapsed": false,
    "pycharm": {
     "name": "#%%\n"
    }
   }
  },
  {
   "cell_type": "markdown",
   "source": [
    "##### 2. Запросить у пользователя ввод числа. Построить цикл от 0 до введённого числа (включительно)\n",
    "##### и для чётных чисел вывести то, что они чётные, а для нечётных, что они нечётные. Пример вывода:\n",
    "##### 0 is EVEN\n",
    "##### 1 is ODD\n",
    "##### 2 is EVEN"
   ],
   "metadata": {
    "collapsed": false
   }
  },
  {
   "cell_type": "code",
   "execution_count": 2,
   "outputs": [
    {
     "name": "stdout",
     "output_type": "stream",
     "text": [
      "0 is EVEN\n",
      "1 is ODD\n",
      "2 is EVEN\n",
      "3 is ODD\n",
      "4 is EVEN\n",
      "5 is ODD\n"
     ]
    }
   ],
   "source": [
    "star = input(' Введите число')\n",
    "stars = int(star)\n",
    "# Делаем цикл\n",
    "# Функция range сгенерирует нам список чисел до n\n",
    "# Для того чтобы увидеть полный star мы пишим +1\n",
    "for v in range(stars+1):\n",
    "    if v % 2==0:\n",
    "        print(f'{v} is EVEN')\n",
    "    else:\n",
    "       print(f'{v} is ODD')\n",
    "\n",
    "# Можно сделать "
   ],
   "metadata": {
    "collapsed": false,
    "pycharm": {
     "name": "#%%\n"
    }
   }
  },
  {
   "cell_type": "markdown",
   "source": [
    "##### 3. Построить цикл от 0 до введеного числа (включительно) и подсчитать сумму всех\n",
    "##### чисел, делимых без остатка на 3 или 5\n",
    "##### Вывести это число\n",
    "##### Можно решить как через for так и через list comprehension, просуммировать числа\n",
    "##### профильтрованного списка можно через функцию sum(arg_list)"
   ],
   "metadata": {
    "collapsed": false
   }
  },
  {
   "cell_type": "code",
   "execution_count": 6,
   "outputs": [
    {
     "name": "stdout",
     "output_type": "stream",
     "text": [
      "Total summ = 33\n"
     ]
    }
   ],
   "source": [
    "limit = int(input(' Введите число'))\n",
    "\n",
    "su = 0\n",
    "for v in range(limit+1):\n",
    "    if v % 3==0 or v % 5==0:\n",
    "        su += v\n",
    "    else:\n",
    "        continue\n",
    "\n",
    "print(f'Total summ = {su}')\n"
   ],
   "metadata": {
    "collapsed": false,
    "pycharm": {
     "name": "#%%\n"
    }
   }
  },
  {
   "cell_type": "markdown",
   "source": [
    "##### 4. На вход подаються два списка чисел длинны N\n",
    "##### Взять из первог8о списка все нечетные числа, из второго все четные и объединить их\n",
    "##### в новом списке с названием joined_list\n",
    "##### Можно сделать двумя циклами for, можно одним, можно list comprehension\n",
    "##### Первыми в joined_list должны идти нечетные числа."
   ],
   "metadata": {
    "collapsed": false
   }
  },
  {
   "cell_type": "code",
   "execution_count": 4,
   "outputs": [
    {
     "name": "stdout",
     "output_type": "stream",
     "text": [
      "[]\n"
     ]
    }
   ],
   "source": [
    "limit_1 = input(' Введите число')\n",
    "limit_2 = input(' Введите число')\n",
    "\n",
    "first_list = list(limit_1)\n",
    "second_list = list(limit_2)\n",
    "joined_list = []\n",
    "for x in first_list:\n",
    "    for y in second_list:\n",
    "        cur_sum = x + y\n",
    "        if cur_sum == 0:\n",
    "            joined_list.append((x, y))\n",
    "print(joined_list)\n"
   ],
   "metadata": {
    "collapsed": false,
    "pycharm": {
     "name": "#%%\n"
    }
   }
  },
  {
   "cell_type": "markdown",
   "source": [],
   "metadata": {
    "collapsed": false
   }
  },
  {
   "cell_type": "code",
   "execution_count": 5,
   "outputs": [
    {
     "ename": "ValueError",
     "evalue": "invalid literal for int() with base 10: ''",
     "output_type": "error",
     "traceback": [
      "\u001B[1;31m---------------------------------------------------------------------------\u001B[0m",
      "\u001B[1;31mValueError\u001B[0m                                Traceback (most recent call last)",
      "\u001B[1;32m<ipython-input-5-11250485858f>\u001B[0m in \u001B[0;36m<module>\u001B[1;34m\u001B[0m\n\u001B[1;32m----> 1\u001B[1;33m \u001B[0mlimit\u001B[0m \u001B[1;33m=\u001B[0m \u001B[0mint\u001B[0m\u001B[1;33m(\u001B[0m\u001B[0minput\u001B[0m\u001B[1;33m(\u001B[0m\u001B[1;34m' Введите число'\u001B[0m\u001B[1;33m)\u001B[0m\u001B[1;33m)\u001B[0m\u001B[1;33m\u001B[0m\u001B[1;33m\u001B[0m\u001B[0m\n\u001B[0m\u001B[0;32m      2\u001B[0m \u001B[1;33m\u001B[0m\u001B[0m\n\u001B[0;32m      3\u001B[0m \u001B[0msu\u001B[0m \u001B[1;33m=\u001B[0m \u001B[1;36m0\u001B[0m\u001B[1;33m\u001B[0m\u001B[1;33m\u001B[0m\u001B[0m\n\u001B[0;32m      4\u001B[0m \u001B[1;32mfor\u001B[0m \u001B[0mv\u001B[0m \u001B[1;32min\u001B[0m \u001B[0mrange\u001B[0m\u001B[1;33m(\u001B[0m\u001B[0mlimit\u001B[0m\u001B[1;33m+\u001B[0m\u001B[1;36m1\u001B[0m\u001B[1;33m)\u001B[0m\u001B[1;33m:\u001B[0m\u001B[1;33m\u001B[0m\u001B[1;33m\u001B[0m\u001B[0m\n\u001B[0;32m      5\u001B[0m     \u001B[1;32mif\u001B[0m \u001B[0mv\u001B[0m \u001B[1;33m%\u001B[0m \u001B[1;36m3\u001B[0m\u001B[1;33m==\u001B[0m\u001B[1;36m0\u001B[0m \u001B[1;32mor\u001B[0m \u001B[0mv\u001B[0m \u001B[1;33m%\u001B[0m \u001B[1;36m5\u001B[0m\u001B[1;33m==\u001B[0m\u001B[1;36m0\u001B[0m\u001B[1;33m:\u001B[0m\u001B[1;33m\u001B[0m\u001B[1;33m\u001B[0m\u001B[0m\n",
      "\u001B[1;31mValueError\u001B[0m: invalid literal for int() with base 10: ''"
     ]
    }
   ],
   "source": [
    "limit = int(input(' Введите число'))\n",
    "\n",
    "su = 0\n",
    "for v in range(limit+1):\n",
    "    if v % 3==0 or v % 5==0:\n",
    "        su += v\n",
    "    else:\n",
    "        continue\n",
    "\n",
    "print(f'Total summ = {su}')"
   ],
   "metadata": {
    "collapsed": false,
    "pycharm": {
     "name": "#%%\n"
    }
   }
  },
  {
   "cell_type": "markdown",
   "source": [
    "##### 4. На вход подаються два списка чисел длинны N\n",
    "##### Взять из первог8о списка все нечетные числа, из второго все четные и объединить их\n",
    "##### в новом списке с названием joined_list\n",
    "##### Можно сделать двумя циклами for, можно одним, можно list comprehension\n",
    "##### Первыми в joined_list должны идти нечетные числа."
   ],
   "metadata": {
    "collapsed": false
   }
  },
  {
   "cell_type": "code",
   "execution_count": null,
   "outputs": [],
   "source": [
    "limit_1 = input(' Введите число')\n",
    "limit_2 = input(' Введите число')\n",
    "\n",
    "first_list = list(limit_1)\n",
    "second_list = list(limit_2)\n",
    "joined_list = []\n",
    "for x in first_list:\n",
    "    for y in second_list:\n",
    "        cur_sum = x + y\n",
    "        if cur_sum == 0:\n",
    "            joined_list.append((x, y))\n",
    "print(joined_list)\n"
   ],
   "metadata": {
    "collapsed": false,
    "pycharm": {
     "name": "#%%\n"
    }
   }
  }
 ],
 "metadata": {
  "kernelspec": {
   "display_name": "Python 3",
   "language": "python",
   "name": "python3"
  },
  "language_info": {
   "codemirror_mode": {
    "name": "ipython",
    "version": 2
   },
   "file_extension": ".py",
   "mimetype": "text/x-python",
   "name": "python",
   "nbconvert_exporter": "python",
   "pygments_lexer": "ipython2",
   "version": "2.7.6"
  }
 },
 "nbformat": 4,
 "nbformat_minor": 0
}