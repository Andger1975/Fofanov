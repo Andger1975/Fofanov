{
 "cells": [
  {
   "cell_type": "code",
   "execution_count": null,
   "outputs": [],
   "source": [
    "'''\n",
    "1. Вывести лесенкой символ звёздочки по кол-ву строк, заданных пользователем:\n",
    "запросить ввод у пользователя кол-ва строк, вывести звёздочки лесенкой.\n",
    "\n",
    "- Например, пользователь ввёл число 2. Тогда выводим:\n",
    "*\n",
    "**\n",
    "\n",
    "- Например, пользователь ввёл число 4. Тогда выводим:\n",
    "*\n",
    "\n",
    "**\n",
    "\n",
    "***\n",
    "\n",
    "****\n",
    "\n",
    "и так далее, смысл должен быть ясен.\n",
    "\n",
    "Примечание: символ можно умножать на число, получая строку с дублированным символом\n",
    "(но решить можно и без этого)\n",
    "'''"
   ],
   "metadata": {
    "collapsed": false,
    "pycharm": {
     "name": "#%%\n"
    }
   }
  },
  {
   "cell_type": "code",
   "execution_count": 2,
   "outputs": [
    {
     "name": "stdout",
     "output_type": "stream",
     "text": [
      "x equals 0\n",
      "x equals 1\n",
      "x equals 2\n",
      "x equals 3\n",
      "x equals 4\n",
      "Condition is not met\n"
     ]
    }
   ],
   "source": [
    "star = input(' Введите количество символов')\n",
    "stars = int(star)\n",
    "# Делаем цикл\n"
   ],
   "metadata": {
    "collapsed": false,
    "pycharm": {
     "name": "#%%\n"
    }
   }
  }
 ],
 "metadata": {
  "kernelspec": {
   "display_name": "Python 3",
   "language": "python",
   "name": "python3"
  },
  "language_info": {
   "codemirror_mode": {
    "name": "ipython",
    "version": 2
   },
   "file_extension": ".py",
   "mimetype": "text/x-python",
   "name": "python",
   "nbconvert_exporter": "python",
   "pygments_lexer": "ipython2",
   "version": "2.7.6"
  }
 },
 "nbformat": 4,
 "nbformat_minor": 0
}