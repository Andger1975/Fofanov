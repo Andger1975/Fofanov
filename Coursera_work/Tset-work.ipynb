{
 "cells": [
  {
   "cell_type": "code",
   "execution_count": 3,
   "metadata": {
    "collapsed": true
   },
   "outputs": [
    {
     "name": "stdout",
     "output_type": "stream",
     "text": [
      "Hello, Harry!\n"
     ]
    }
   ],
   "source": [
    "# первая задача курса, распишем крайне подробно, что нужно сделать.\n",
    "\n",
    "# Во всех задачах этого курса решения должны выдавать в точности требуемый ответ.\n",
    "# В частности, не надо выводить призыв к вводу вроде \"Введите имя\".\n",
    "# Строки \"Тест Х\", \"Входные данные:\" и \"Вывод программы:\" выводить тоже не нужно.\n",
    "\n",
    "# Иными словами, решение этой задачи должно ждать, пока не введут имя, а\n",
    "# после этого вывести строчку Hello, имя!, соответствующую примеру ввода/вывода.\n",
    "# Это значит, что строчка должна быть:\n",
    "\n",
    "# с запятой после Hello\n",
    "# с пробелом между запятой и имя\n",
    "# с восклицательным знаком после имя\n",
    "name = input()\n",
    "print(\"Hello,\",name+'!')"
   ]
  },
  {
   "cell_type": "code",
   "execution_count": 2,
   "outputs": [
    {
     "name": "stdout",
     "output_type": "stream",
     "text": [
      "   _~_       _~_       _~_    \n",
      "  (o o)     (o o)     (o o)   \n",
      " /  V  \\   /  V  \\   /  V  \\  \n",
      "/(  _  )\\ /(  _  )\\ /(  _  )\\ \n",
      "  ^^ ^^     ^^ ^^     ^^ ^^   \n"
     ]
    }
   ],
   "source": [
    "# Напишите программу, которая по данному числу N от 1 до 9 выводит на экран N пингвинов.\n",
    "# Изображение одного пингвина имеет размер 5×9 символов, между двумя соседними пингвинами\n",
    "# также имеется пустой (из пробелов) столбец. Разрешается вывести пустой столбец после\n",
    "# последнего пингвина.\n",
    "\n",
    "pingvin = int(input())\n",
    "print('   _~_    ' * pingvin)\n",
    "print('  (o o)   ' * pingvin)\n",
    "print(' /  V  \\\\  ' * pingvin)\n",
    "print('/(  _  )\\\\ ' * pingvin)\n",
    "print('  ^^ ^^   ' * pingvin)"
   ],
   "metadata": {
    "collapsed": false,
    "pycharm": {
     "name": "#%%\n"
    }
   }
  }
 ],
 "metadata": {
  "kernelspec": {
   "display_name": "Python 3",
   "language": "python",
   "name": "python3"
  },
  "language_info": {
   "codemirror_mode": {
    "name": "ipython",
    "version": 2
   },
   "file_extension": ".py",
   "mimetype": "text/x-python",
   "name": "python",
   "nbconvert_exporter": "python",
   "pygments_lexer": "ipython2",
   "version": "2.7.6"
  }
 },
 "nbformat": 4,
 "nbformat_minor": 0
}