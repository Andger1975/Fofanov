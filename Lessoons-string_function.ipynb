{
 "cells": [
  {
   "cell_type": "markdown",
   "source": [
    "Строковый функции"
   ],
   "metadata": {
    "collapsed": false
   }
  },
  {
   "cell_type": "code",
   "execution_count": 8,
   "outputs": [
    {
     "data": {
      "text/plain": "23"
     },
     "execution_count": 8,
     "metadata": {},
     "output_type": "execute_result"
    }
   ],
   "source": [
    "x = \"hello, my name is Elias\"\n",
    "\n",
    "# Функция Len подсчитывает количество символов в строке\n",
    "len(x)"
   ],
   "metadata": {
    "collapsed": false,
    "pycharm": {
     "name": "#%%\n"
    }
   }
  },
  {
   "cell_type": "code",
   "execution_count": 9,
   "outputs": [
    {
     "data": {
      "text/plain": "'s'"
     },
     "execution_count": 9,
     "metadata": {},
     "output_type": "execute_result"
    }
   ],
   "source": [
    "# Найти последний символ в строке через Len\n",
    "x[len(x)-1]"
   ],
   "metadata": {
    "collapsed": false,
    "pycharm": {
     "name": "#%%\n"
    }
   }
  },
  {
   "cell_type": "code",
   "execution_count": 10,
   "outputs": [
    {
     "data": {
      "text/plain": "3"
     },
     "execution_count": 10,
     "metadata": {},
     "output_type": "execute_result"
    }
   ],
   "source": [
    "# x.count подсчитывает сколько определенных символов в строке\n",
    "x.count('l')"
   ],
   "metadata": {
    "collapsed": false,
    "pycharm": {
     "name": "#%%\n"
    }
   }
  },
  {
   "cell_type": "code",
   "execution_count": 11,
   "outputs": [
    {
     "data": {
      "text/plain": "'Hello, my name is elias'"
     },
     "execution_count": 11,
     "metadata": {},
     "output_type": "execute_result"
    }
   ],
   "source": [
    "# x.capitalize делает 1 символ в строке в верхней регистр а все остальные в нижний\n",
    "x.capitalize()"
   ],
   "metadata": {
    "collapsed": false,
    "pycharm": {
     "name": "#%%\n"
    }
   }
  },
  {
   "cell_type": "code",
   "execution_count": 12,
   "outputs": [
    {
     "name": "stdout",
     "output_type": "stream",
     "text": [
      "HELLO, MY NAME IS ELIAS\n"
     ]
    }
   ],
   "source": [
    "# x.upper переводит все символы в верхний регистр.\n",
    "upper_cased = x.upper()\n",
    "print(upper_cased)"
   ],
   "metadata": {
    "collapsed": false,
    "pycharm": {
     "name": "#%%\n"
    }
   }
  },
  {
   "cell_type": "code",
   "execution_count": 13,
   "outputs": [
    {
     "name": "stdout",
     "output_type": "stream",
     "text": [
      "hello, my name is elias\n"
     ]
    }
   ],
   "source": [
    "# x.lower переводит все символы в строке в нижний регистр\n",
    "lower_cased = x.lower()\n",
    "print(lower_cased)"
   ],
   "metadata": {
    "collapsed": false,
    "pycharm": {
     "name": "#%%\n"
    }
   }
  },
  {
   "cell_type": "code",
   "execution_count": 14,
   "outputs": [
    {
     "data": {
      "text/plain": "'hello, my name is Elias'"
     },
     "execution_count": 14,
     "metadata": {},
     "output_type": "execute_result"
    }
   ],
   "source": [
    "x"
   ],
   "metadata": {
    "collapsed": false,
    "pycharm": {
     "name": "#%%\n"
    }
   }
  },
  {
   "cell_type": "markdown",
   "source": [
    "Функции которые проверяют все ли символы находятся в верхнем или нижнем регистре isupper and islower\n"
   ],
   "metadata": {
    "collapsed": false
   }
  },
  {
   "cell_type": "code",
   "execution_count": 15,
   "outputs": [
    {
     "name": "stdout",
     "output_type": "stream",
     "text": [
      "True\n",
      "True\n",
      "False\n",
      "False\n"
     ]
    }
   ],
   "source": [
    "print(upper_cased.isupper())\n",
    "print(lower_cased.islower())\n",
    "print(x.isupper())\n",
    "print(x.islower())\n"
   ],
   "metadata": {
    "collapsed": false,
    "pycharm": {
     "name": "#%%\n"
    }
   }
  },
  {
   "cell_type": "code",
   "execution_count": 16,
   "outputs": [
    {
     "name": "stdout",
     "output_type": "stream",
     "text": [
      "2\n",
      "19\n",
      "-1\n",
      "7\n",
      "12\n"
     ]
    }
   ],
   "source": [
    "# x.find находит индекс символа (только первого)\n",
    "print(x.find('l'))\n",
    "print(x.find('l', 5))\n",
    "print(x.find('l', 5, 10)) # поиск символа в интервале индексов\n",
    "print(x.find('m', 7, 15))\n",
    "print(x.find('m', 8, 15))"
   ],
   "metadata": {
    "collapsed": false,
    "pycharm": {
     "name": "#%%\n"
    }
   }
  },
  {
   "cell_type": "code",
   "execution_count": 20,
   "outputs": [
    {
     "name": "stdout",
     "output_type": "stream",
     "text": [
      "7\n",
      "2\n"
     ]
    }
   ],
   "source": [
    "print(x.find('my'))\n"
   ],
   "metadata": {
    "collapsed": false,
    "pycharm": {
     "name": "#%%\n"
    }
   }
  },
  {
   "cell_type": "code",
   "execution_count": 23,
   "outputs": [
    {
     "name": "stdout",
     "output_type": "stream",
     "text": [
      "True\n",
      "False\n",
      "True\n",
      "False\n"
     ]
    }
   ],
   "source": [
    "# проверить что строка состоит и цифр и букв можно через функцию isalnum\n",
    "print('123dfg'.isalnum())\n",
    "print('123dfg!'.isalnum())\n",
    "\n",
    "# проверить что строка только из букв можно через функцию isalpha\n",
    "print('asd'.isalpha())\n",
    "print('123asd'.isalpha())"
   ],
   "metadata": {
    "collapsed": false,
    "pycharm": {
     "name": "#%%\n"
    }
   }
  },
  {
   "cell_type": "code",
   "execution_count": 24,
   "outputs": [
    {
     "name": "stdout",
     "output_type": "stream",
     "text": [
      "True\n",
      "False\n"
     ]
    }
   ],
   "source": [
    "# функция isspace проверяет пустая ли строка\n",
    "print(\"   \".isspace()) # проверяет состоит ли строка из пробелов\n",
    "print(\"\".isspace()) # строка пустая и не содержит символов"
   ],
   "metadata": {
    "collapsed": false,
    "pycharm": {
     "name": "#%%\n"
    }
   }
  },
  {
   "cell_type": "code",
   "execution_count": 25,
   "outputs": [
    {
     "name": "stdout",
     "output_type": "stream",
     "text": [
      "True\n"
     ]
    }
   ],
   "source": [
    "# проверяем не состоит ли строка из символов (более правильный вариант)\n",
    "empty_string =''\n",
    "print(empty_string == \"\") # оперция сравнения"
   ],
   "metadata": {
    "collapsed": false,
    "pycharm": {
     "name": "#%%\n"
    }
   }
  },
  {
   "cell_type": "code",
   "execution_count": 7,
   "outputs": [
    {
     "name": "stdout",
     "output_type": "stream",
     "text": [
      "True\n"
     ]
    }
   ],
   "source": [
    "# функция strip которая удаляет сначала и с конца строки символ который мы передаем в скобках (в данном случае пробел)\n",
    "empty_string = \"  \"\n",
    "print(empty_string.strip( )== \"\")"
   ],
   "metadata": {
    "collapsed": false,
    "pycharm": {
     "name": "#%%\n"
    }
   }
  },
  {
   "cell_type": "code",
   "execution_count": 8,
   "outputs": [
    {
     "name": "stdout",
     "output_type": "stream",
     "text": [
      "empty\n"
     ]
    }
   ],
   "source": [
    "# опертор not (не) смотрит пестая ли строка если не пустая то True если пустая то False\n",
    "if not empty_string:\n",
    "    print(\"not empty\")\n",
    "else:\n",
    "    print(\"empty\")"
   ],
   "metadata": {
    "collapsed": false,
    "pycharm": {
     "name": "#%%\n"
    }
   }
  },
  {
   "cell_type": "code",
   "execution_count": 10,
   "outputs": [
    {
     "name": "stdout",
     "output_type": "stream",
     "text": [
      "True\n",
      "True\n"
     ]
    }
   ],
   "source": [
    "# функции startswith определяет начинается ли строка с того что указано в скобках,\n",
    "# а endswith проверяет что заканчивается\n",
    "h = \"hello\"\n",
    "print(h.startswith(\"he\"))\n",
    "print(h.endswith(\"lo\"))"
   ],
   "metadata": {
    "collapsed": false,
    "pycharm": {
     "name": "#%%\n"
    }
   }
  },
  {
   "cell_type": "code",
   "execution_count": 13,
   "outputs": [
    {
     "name": "stdout",
     "output_type": "stream",
     "text": [
      "<class 'list'>\n",
      "['he', '', 'o']\n",
      "['h', 'llo']\n"
     ]
    }
   ],
   "source": [
    "# функция split - сепаратор разбивает строку на части, используя специальный\n",
    "# разделитель, и возвращает эти части в виде списка\n",
    "split = h.split('l')\n",
    "print(type(split))\n",
    "print(split)\n",
    "split = h.split('e')\n",
    "print(split)"
   ],
   "metadata": {
    "collapsed": false,
    "pycharm": {
     "name": "#%%\n"
    }
   }
  },
  {
   "cell_type": "code",
   "execution_count": 15,
   "outputs": [
    {
     "name": "stdout",
     "output_type": "stream",
     "text": [
      "['12', '10', '8', '10']\n"
     ]
    }
   ],
   "source": [
    "# еще пример split\n",
    "data = \"12;10;8;10\"\n",
    "separated_dta = data.split(';')\n",
    "print(separated_dta)"
   ],
   "metadata": {
    "collapsed": false,
    "pycharm": {
     "name": "#%%\n"
    }
   }
  },
  {
   "cell_type": "code",
   "execution_count": null,
   "outputs": [],
   "source": [
    "# функция partition в Python. Разбивает строку на три составляющие (начало, разделитель, конец)\n",
    "# и возвращает в виде кортежа. Направление разбиения: слева направо"
   ],
   "metadata": {
    "collapsed": false,
    "pycharm": {
     "name": "#%%\n"
    }
   }
  },
  {
   "cell_type": "code",
   "execution_count": 16,
   "outputs": [
    {
     "name": "stdout",
     "output_type": "stream",
     "text": [
      "(' Python ', 'is', ' fun')\n",
      "(' Python is fun', '', '')\n",
      "('Python ', 'is', \" fun, isn't it\")\n"
     ]
    }
   ],
   "source": [
    "python = \" Python is fun\"\n",
    "\n",
    "print(python.partition('is'))\n",
    "print(python.partition('not'))\n",
    "\n",
    "python = \"Python is fun, isn't it\"\n",
    "print(python.partition('is'))"
   ],
   "metadata": {
    "collapsed": false,
    "pycharm": {
     "name": "#%%\n"
    }
   }
  }
 ],
 "metadata": {
  "kernelspec": {
   "display_name": "Python 3",
   "language": "python",
   "name": "python3"
  },
  "language_info": {
   "codemirror_mode": {
    "name": "ipython",
    "version": 2
   },
   "file_extension": ".py",
   "mimetype": "text/x-python",
   "name": "python",
   "nbconvert_exporter": "python",
   "pygments_lexer": "ipython2",
   "version": "2.7.6"
  }
 },
 "nbformat": 4,
 "nbformat_minor": 0
}