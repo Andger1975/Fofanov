{
 "cells": [
  {
   "cell_type": "code",
   "execution_count": 69,
   "metadata": {},
   "outputs": [
    {
     "name": "stdout",
     "output_type": "stream",
     "text": [
      "C:\\Users\\VladG\\PycharmProjects\\Fofanov-course\n"
     ]
    }
   ],
   "source": [
    "# Показать путь где мы находимся при помощи \"pwd\" - работает либо в jupyter or python console\n",
    "\n",
    "import os\n",
    "dirpath = os.getcwd()\n",
    "\n",
    "print(dirpath)"
   ]
  },
  {
   "cell_type": "code",
   "execution_count": 71,
   "metadata": {
    "pycharm": {
     "name": "#%%\n"
    }
   },
   "outputs": [
    {
     "name": "stderr",
     "output_type": "stream",
     "text": [
      "UsageError: Line magic function `%%writefile` not found.\n"
     ]
    }
   ],
   "source": [
    "# Создать файл и записать данные - pycharm ругается но делает\n",
    "%%writefile sample.txt\n",
    "\n",
    "Name|Phone\n",
    "John;1234\n",
    "Bob;5678\n",
    "Aliace;9432"
   ]
  },
  {
   "cell_type": "code",
   "execution_count": 66,
   "metadata": {
    "pycharm": {
     "name": "#%%\n"
    }
   },
   "outputs": [
    {
     "data": {
      "text/plain": [
       "<_io.TextIOWrapper name='sample.txt' mode='r' encoding='cp1251'>"
      ]
     },
     "execution_count": 66,
     "metadata": {},
     "output_type": "execute_result"
    }
   ],
   "source": [
    "file = open('sample.txt') # открыть файл\n",
    "file\n"
   ]
  },
  {
   "cell_type": "code",
   "execution_count": 67,
   "metadata": {
    "pycharm": {
     "name": "#%%\n"
    }
   },
   "outputs": [
    {
     "data": {
      "text/plain": [
       "'# РЎРѕР·РґР°С‚СЊ С„Р°Р№Р» Рё Р·Р°РїРёСЃР°С‚СЊ РґР°РЅРЅС‹Рµ - pycharm СЂСѓРіР°РµС‚СЃСЏ РЅРѕ РґРµР»Р°РµС‚\\nName|Phone\\nJohn;1234\\nBob;5678\\nAliace;9432\\n'"
      ]
     },
     "execution_count": 67,
     "metadata": {},
     "output_type": "execute_result"
    }
   ],
   "source": [
    "data = file.read() # прочитать файл\n",
    "data"
   ]
  },
  {
   "cell_type": "code",
   "execution_count": 42,
   "metadata": {
    "pycharm": {
     "name": "#%%\n"
    }
   },
   "outputs": [
    {
     "name": "stdout",
     "output_type": "stream",
     "text": [
      "Name|Phone\n",
      "John;1234\n",
      "Bob;5678\n",
      "Aliace;9432\n",
      "\n"
     ]
    }
   ],
   "source": [
    "# вывести данный из файла\n",
    "print(data)"
   ]
  },
  {
   "cell_type": "code",
   "execution_count": 43,
   "metadata": {
    "pycharm": {
     "name": "#%%\n"
    }
   },
   "outputs": [
    {
     "name": "stdout",
     "output_type": "stream",
     "text": [
      "\n"
     ]
    }
   ],
   "source": [
    "# Внутренний курсор считывает данные до конца файла если попытаться еще раз вывести\n",
    "# данные из файла то уже не получиться так как уже все прочититано.\n",
    "print(file.read())"
   ]
  },
  {
   "cell_type": "code",
   "execution_count": 44,
   "metadata": {
    "pycharm": {
     "name": "#%%\n"
    }
   },
   "outputs": [
    {
     "name": "stdout",
     "output_type": "stream",
     "text": [
      "Name|Phone\n",
      "John;1234\n",
      "Bob;5678\n",
      "Aliace;9432\n",
      "\n"
     ]
    }
   ],
   "source": [
    "# Однако через фунцию seek которая возвращает курсор файла в начало (в нулевой байт)\n",
    "# и файл снова может быть прочитан\n",
    "file.seek(0)\n",
    "print(file.read())"
   ]
  },
  {
   "cell_type": "code",
   "execution_count": 46,
   "metadata": {
    "pycharm": {
     "name": "#%%\n"
    }
   },
   "outputs": [
    {
     "name": "stdout",
     "output_type": "stream",
     "text": [
      "<class 'str'>\n",
      "<class 'list'>\n",
      "['Name|Phone\\n', 'John;1234\\n', 'Bob;5678\\n', 'Aliace;9432\\n']\n"
     ]
    },
    {
     "data": {
      "text/plain": [
       "4"
      ]
     },
     "execution_count": 46,
     "metadata": {},
     "output_type": "execute_result"
    }
   ],
   "source": [
    "print(type(data)) # Видим что класс данных str\n",
    "file.seek(0)\n",
    "\n",
    "# Но удобно использовать функцию readline котороя возвращает список строк\n",
    "lines = file.readlines()\n",
    "print(type(lines))\n",
    "print(lines)\n",
    "\n",
    "# функция len(объект) возвращает целое число (int) равное количеству элементов объекта.\n",
    "# объектом - выступает любая последовательность (str, list, tuple), отображение ( словарь (dict))\n",
    "# или коллекция (множество (set) или неизменяемое множество (frozenset))\n",
    "# В нашем случае возвращает количество элементов списка\n",
    "len(lines)"
   ]
  },
  {
   "cell_type": "markdown",
   "metadata": {},
   "source": [
    "А если нужно прочитать файл из другого источника."
   ]
  },
  {
   "cell_type": "code",
   "execution_count": 47,
   "metadata": {
    "pycharm": {
     "name": "#%%\n"
    }
   },
   "outputs": [],
   "source": [
    "sample_file = open(r'C:\\Users\\VladG\\PycharmProjects\\Fofanov-course\\sample.txt')\n",
    "\n",
    "# or open with double back slashes eg: file = open('C:\\\\Users\\\\VladG\\\\PycharmProjects\\\\Fofanov-course\\\\sample.txt')\n",
    "# on Linux, we use slashes, so there's no need in r'C:\\....'\n",
    "# file = open(/Users/VladG/PycharmProjects/Fofanov-course/sample.sxt)"
   ]
  },
  {
   "cell_type": "markdown",
   "metadata": {},
   "source": [
    "После того как мы поработали с файлами его необходимо закрыть."
   ]
  },
  {
   "cell_type": "code",
   "execution_count": 48,
   "metadata": {
    "pycharm": {
     "name": "#%%\n"
    }
   },
   "outputs": [],
   "source": [
    "file.close()\n",
    "sample_file.close()\n"
   ]
  },
  {
   "cell_type": "code",
   "execution_count": 49,
   "metadata": {
    "pycharm": {
     "name": "#%%\n"
    }
   },
   "outputs": [
    {
     "ename": "TypeError",
     "evalue": "'bool' object is not callable",
     "output_type": "error",
     "traceback": [
      "\u001b[1;31m---------------------------------------------------------------------------\u001b[0m",
      "\u001b[1;31mTypeError\u001b[0m                                 Traceback (most recent call last)",
      "\u001b[1;32m<ipython-input-49-59f96a563f1e>\u001b[0m in \u001b[0;36m<module>\u001b[1;34m\u001b[0m\n\u001b[1;32m----> 1\u001b[1;33m \u001b[0mprint\u001b[0m\u001b[1;33m(\u001b[0m\u001b[0mfile\u001b[0m\u001b[1;33m.\u001b[0m\u001b[0mclosed\u001b[0m\u001b[1;33m(\u001b[0m\u001b[1;33m)\u001b[0m\u001b[1;33m)\u001b[0m\u001b[1;33m\u001b[0m\u001b[1;33m\u001b[0m\u001b[0m\n\u001b[0m\u001b[0;32m      2\u001b[0m \u001b[0mprint\u001b[0m\u001b[1;33m(\u001b[0m\u001b[0msample_file\u001b[0m\u001b[1;33m.\u001b[0m\u001b[0mclosed\u001b[0m\u001b[1;33m(\u001b[0m\u001b[1;33m)\u001b[0m\u001b[1;33m)\u001b[0m\u001b[1;33m\u001b[0m\u001b[1;33m\u001b[0m\u001b[0m\n\u001b[0;32m      3\u001b[0m \u001b[1;33m\u001b[0m\u001b[0m\n",
      "\u001b[1;31mTypeError\u001b[0m: 'bool' object is not callable"
     ]
    }
   ],
   "source": [
    "print(file.closed())\n",
    "print(sample_file.closed())\n"
   ]
  }
 ],
 "metadata": {
  "kernelspec": {
   "display_name": "Python 3",
   "language": "python",
   "name": "python3"
  },
  "language_info": {
   "codemirror_mode": {
    "name": "ipython",
    "version": 3
   },
   "file_extension": ".py",
   "mimetype": "text/x-python",
   "name": "python",
   "nbconvert_exporter": "python",
   "pygments_lexer": "ipython3",
   "version": "3.7.8"
  }
 },
 "nbformat": 4,
 "nbformat_minor": 1
}
