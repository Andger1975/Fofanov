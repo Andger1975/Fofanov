{
 "cells": [
  {
   "cell_type": "markdown",
   "source": [
    "Коллекции или типы данных которые содержат набор элементов"
   ],
   "metadata": {
    "collapsed": false
   }
  },
  {
   "cell_type": "code",
   "execution_count": 7,
   "outputs": [
    {
     "name": "stdout",
     "output_type": "stream",
     "text": [
      "1\n",
      "3\n"
     ]
    }
   ],
   "source": [
    "# Тип list\n",
    "\n",
    "int_list = [1,2,3]\n",
    "mix_list = [1,2.0,'string']\n",
    "\n",
    "# Узнать длинну списка через Len\n",
    "len(int_list) # 3\n",
    "\n",
    "# В скписках также можно обращаться по индексу\n",
    "print(int_list[0])\n",
    "print(int_list[-1])"
   ],
   "metadata": {
    "collapsed": false,
    "pycharm": {
     "name": "#%%\n"
    }
   }
  },
  {
   "cell_type": "code",
   "execution_count": 8,
   "outputs": [
    {
     "data": {
      "text/plain": "[2, 3]"
     },
     "execution_count": 8,
     "metadata": {},
     "output_type": "execute_result"
    }
   ],
   "source": [
    "# В списках так же можно делать срезы\n",
    "\n",
    "int_list[1:]"
   ],
   "metadata": {
    "collapsed": false,
    "pycharm": {
     "name": "#%%\n"
    }
   }
  },
  {
   "cell_type": "code",
   "execution_count": 10,
   "outputs": [
    {
     "name": "stdout",
     "output_type": "stream",
     "text": [
      "['John', 'Bob', 'Alice', ' Tracy', 'Elijah', 'Mason']\n"
     ]
    },
    {
     "data": {
      "text/plain": "list"
     },
     "execution_count": 10,
     "metadata": {},
     "output_type": "execute_result"
    }
   ],
   "source": [
    "# Списки поддерживаеют конкатенацию\n",
    "names1 = ['John', 'Bob', 'Alice']\n",
    "names2 = [' Tracy', 'Elijah', 'Mason']\n",
    "\n",
    "# Склеиваем списки names1 + names2 или более правильно\n",
    "names_combined = names1 + names2\n",
    "print(names_combined)\n",
    "type(names_combined)"
   ],
   "metadata": {
    "collapsed": false,
    "pycharm": {
     "name": "#%%\n"
    }
   }
  },
  {
   "cell_type": "code",
   "execution_count": 11,
   "outputs": [
    {
     "name": "stdout",
     "output_type": "stream",
     "text": [
      "['Andrey', 'Bob', 'Alice']\n"
     ]
    }
   ],
   "source": [
    "# Изменяем имя в списке\n",
    "names1[0] = 'Andrey'\n",
    "print(names1)"
   ],
   "metadata": {
    "collapsed": false,
    "pycharm": {
     "name": "#%%\n"
    }
   }
  },
  {
   "cell_type": "code",
   "execution_count": 12,
   "outputs": [
    {
     "name": "stdout",
     "output_type": "stream",
     "text": [
      "['Andrey', 'Bob', 'Alice', 'William', 'James']\n"
     ]
    }
   ],
   "source": [
    "# Добовляем элементы в список\n",
    "names1.append('William')\n",
    "names1.append('James')\n",
    "print(names1)\n"
   ],
   "metadata": {
    "collapsed": false,
    "pycharm": {
     "name": "#%%\n"
    }
   }
  },
  {
   "cell_type": "code",
   "execution_count": 13,
   "outputs": [
    {
     "name": "stdout",
     "output_type": "stream",
     "text": [
      "James\n",
      "['Andrey', 'Bob', 'Alice', 'William']\n"
     ]
    }
   ],
   "source": [
    "# Удаление элемента последнего элемента из списка\n",
    "popped = names1.pop()\n",
    "print(popped)\n",
    "print(names1)\n",
    "\n",
    "# Можно удалять по индексу names1.pop(0) - по умолчанию [-1] тоесть последний в списке"
   ],
   "metadata": {
    "collapsed": false,
    "pycharm": {
     "name": "#%%\n"
    }
   }
  },
  {
   "cell_type": "code",
   "execution_count": 14,
   "outputs": [
    {
     "name": "stdout",
     "output_type": "stream",
     "text": [
      "['Alice', 'Andrey', 'Bob', 'William']\n"
     ]
    }
   ],
   "source": [
    "# Сортировка списка по возврастанию\n",
    "names1.sort()\n",
    "print(names1)"
   ],
   "metadata": {
    "collapsed": false,
    "pycharm": {
     "name": "#%%\n"
    }
   }
  },
  {
   "cell_type": "code",
   "execution_count": 15,
   "outputs": [
    {
     "name": "stdout",
     "output_type": "stream",
     "text": [
      "['aa', 'ab', 'ac']\n"
     ]
    }
   ],
   "source": [
    "letters = ['ac', 'ab', 'aa']\n",
    "# Строчки сравниваються целиком и поэтому сортировка более корректна\n",
    "letters.sort()\n",
    "print(letters)"
   ],
   "metadata": {
    "collapsed": false,
    "pycharm": {
     "name": "#%%\n"
    }
   }
  },
  {
   "cell_type": "code",
   "execution_count": 16,
   "outputs": [
    {
     "name": "stdout",
     "output_type": "stream",
     "text": [
      "['a', 'ab', 'abc']\n"
     ]
    }
   ],
   "source": [
    "letters = ['abc', 'a', 'ab']\n",
    "# Сортировка по количеству символов\n",
    "letters.sort(key=len)\n",
    "print(letters)"
   ],
   "metadata": {
    "collapsed": false,
    "pycharm": {
     "name": "#%%\n"
    }
   }
  },
  {
   "cell_type": "code",
   "execution_count": 17,
   "outputs": [
    {
     "name": "stdout",
     "output_type": "stream",
     "text": [
      "[4, 1, 1, 3, 0, 5, 8, 2, 3]\n"
     ]
    }
   ],
   "source": [
    "numbers = [3,2,8,5,0,3,1,1,4]\n",
    "numbers.reverse()\n",
    "print(numbers)\n"
   ],
   "metadata": {
    "collapsed": false,
    "pycharm": {
     "name": "#%%\n"
    }
   }
  }
 ],
 "metadata": {
  "kernelspec": {
   "display_name": "Python 3",
   "language": "python",
   "name": "python3"
  },
  "language_info": {
   "codemirror_mode": {
    "name": "ipython",
    "version": 2
   },
   "file_extension": ".py",
   "mimetype": "text/x-python",
   "name": "python",
   "nbconvert_exporter": "python",
   "pygments_lexer": "ipython2",
   "version": "2.7.6"
  }
 },
 "nbformat": 4,
 "nbformat_minor": 0
}